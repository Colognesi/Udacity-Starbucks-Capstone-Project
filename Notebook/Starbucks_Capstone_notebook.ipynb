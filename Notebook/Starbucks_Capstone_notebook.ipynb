{
 "cells": [
  {
   "cell_type": "markdown",
   "metadata": {},
   "source": [
    "# Starbucks Capstone Challenge\n",
    "\n",
    "### Introduction\n",
    "\n",
    "This data set contains simulated data that mimics customer behavior on the Starbucks rewards mobile app. Once every few days, Starbucks sends out an offer to users of the mobile app. An offer can be merely an advertisement for a drink or an actual offer such as a discount or BOGO (buy one get one free). Some users might not receive any offer during certain weeks. \n",
    "\n",
    "Not all users receive the same offer, and that is the challenge to solve with this data set.\n",
    "\n",
    "Your task is to combine transaction, demographic and offer data to determine which demographic groups respond best to which offer type. This data set is a simplified version of the real Starbucks app because the underlying simulator only has one product whereas Starbucks actually sells dozens of products.\n",
    "\n",
    "Every offer has a validity period before the offer expires. As an example, a BOGO offer might be valid for only 5 days. You'll see in the data set that informational offers have a validity period even though these ads are merely providing information about a product; for example, if an informational offer has 7 days of validity, you can assume the customer is feeling the influence of the offer for 7 days after receiving the advertisement.\n",
    "\n",
    "You'll be given transactional data showing user purchases made on the app including the timestamp of purchase and the amount of money spent on a purchase. This transactional data also has a record for each offer that a user receives as well as a record for when a user actually views the offer. There are also records for when a user completes an offer. \n",
    "\n",
    "Keep in mind as well that someone using the app might make a purchase through the app without having received an offer or seen an offer.\n",
    "\n",
    "### Example\n",
    "\n",
    "To give an example, a user could receive a discount offer buy 10 dollars get 2 off on Monday. The offer is valid for 10 days from receipt. If the customer accumulates at least 10 dollars in purchases during the validity period, the customer completes the offer.\n",
    "\n",
    "However, there are a few things to watch out for in this data set. Customers do not opt into the offers that they receive; in other words, a user can receive an offer, never actually view the offer, and still complete the offer. For example, a user might receive the \"buy 10 dollars get 2 dollars off offer\", but the user never opens the offer during the 10 day validity period. The customer spends 15 dollars during those ten days. There will be an offer completion record in the data set; however, the customer was not influenced by the offer because the customer never viewed the offer.\n",
    "\n",
    "### Cleaning\n",
    "\n",
    "This makes data cleaning especially important and tricky.\n",
    "\n",
    "You'll also want to take into account that some demographic groups will make purchases even if they don't receive an offer. From a business perspective, if a customer is going to make a 10 dollar purchase without an offer anyway, you wouldn't want to send a buy 10 dollars get 2 dollars off offer. You'll want to try to assess what a certain demographic group will buy when not receiving any offers.\n",
    "\n",
    "### Final Advice\n",
    "\n",
    "Because this is a capstone project, you are free to analyze the data any way you see fit. For example, you could build a machine learning model that predicts how much someone will spend based on demographics and offer type. Or you could build a model that predicts whether or not someone will respond to an offer. Or, you don't need to build a machine learning model at all. You could develop a set of heuristics that determine what offer you should send to each customer (i.e., 75 percent of women customers who were 35 years old responded to offer A vs 40 percent from the same demographic to offer B, so send offer A)."
   ]
  },
  {
   "cell_type": "markdown",
   "metadata": {},
   "source": [
    "# Data Sets\n",
    "\n",
    "The data is contained in three files:\n",
    "\n",
    "* portfolio.json - containing offer ids and meta data about each offer (duration, type, etc.)\n",
    "* profile.json - demographic data for each customer\n",
    "* transcript.json - records for transactions, offers received, offers viewed, and offers completed\n",
    "\n",
    "Here is the schema and explanation of each variable in the files:\n",
    "\n",
    "**portfolio.json**\n",
    "* id (string) - offer id\n",
    "* offer_type (string) - type of offer ie BOGO, discount, informational\n",
    "* difficulty (int) - minimum required spend to complete an offer\n",
    "* reward (int) - reward given for completing an offer\n",
    "* duration (int) - time for offer to be open, in days\n",
    "* channels (list of strings)\n",
    "\n",
    "**profile.json**\n",
    "* age (int) - age of the customer \n",
    "* became_member_on (int) - date when customer created an app account\n",
    "* gender (str) - gender of the customer (note some entries contain 'O' for other rather than M or F)\n",
    "* id (str) - customer id\n",
    "* income (float) - customer's income\n",
    "\n",
    "**transcript.json**\n",
    "* event (str) - record description (ie transaction, offer received, offer viewed, etc.)\n",
    "* person (str) - customer id\n",
    "* time (int) - time in hours since start of test. The data begins at time t=0\n",
    "* value - (dict of strings) - either an offer id or transaction amount depending on the record\n",
    "\n",
    "**Note:** If you are using the workspace, you will need to go to the terminal and run the command `conda update pandas` before reading in the files. This is because the version of pandas in the workspace cannot read in the transcript.json file correctly, but the newest version of pandas can. You can access the termnal from the orange icon in the top left of this notebook.  \n",
    "\n",
    "You can see how to access the terminal and how the install works using the two images below.  First you need to access the terminal:\n",
    "\n",
    "<img src=\"pic1.png\"/>\n",
    "\n",
    "Then you will want to run the above command:\n",
    "\n",
    "<img src=\"pic2.png\"/>\n",
    "\n",
    "Finally, when you enter back into the notebook (use the jupyter icon again), you should be able to run the below cell without any errors."
   ]
  },
  {
   "cell_type": "markdown",
   "metadata": {},
   "source": [
    "# My Objective\n",
    "\n",
    "\n",
    "My goal: to instantiate a machine learning model that can predict some type of event (whether it was a purchase or not),\n",
    "check which age groups have greater adherence to viewing/purchasing the products (or at least cooperated with the research)."
   ]
  },
  {
   "cell_type": "code",
   "execution_count": 1,
   "metadata": {
    "scrolled": true
   },
   "outputs": [],
   "source": [
    "import pandas as pd\n",
    "import numpy as np\n",
    "import math\n",
    "import json\n",
    "import matplotlib.pyplot as plt\n",
    "import seaborn as sns\n",
    "from pandas.io.json import json_normalize\n",
    "from sklearn.preprocessing import MultiLabelBinarizer\n",
    "from sklearn.model_selection import train_test_split\n",
    "from sklearn.preprocessing import MinMaxScaler\n",
    "from sklearn.ensemble import AdaBoostClassifier\n",
    "from sklearn.ensemble import GradientBoostingClassifier\n",
    "from sklearn.ensemble import ExtraTreesClassifier\n",
    "from sklearn.ensemble import RandomForestClassifier\n",
    "from sklearn.metrics import classification_report\n",
    "from sklearn.metrics import confusion_matrix\n",
    "\n",
    "% matplotlib inline\n",
    "\n",
    "# read in the json files\n",
    "portfolio = pd.read_json('data/portfolio.json', orient='records', lines=True)\n",
    "profile = pd.read_json('data/profile.json', orient='records', lines=True)\n",
    "transcript = pd.read_json('data/transcript.json', orient='records', lines=True)"
   ]
  },
  {
   "cell_type": "markdown",
   "metadata": {},
   "source": [
    "### First check on our Data"
   ]
  },
  {
   "cell_type": "code",
   "execution_count": 2,
   "metadata": {},
   "outputs": [],
   "source": [
    "def show_basics(df):\n",
    "    '''\n",
    "    Input: Pandas Dataframe\n",
    "    Output: Basic dataframe information (shape and null count)\n",
    "    Return: None\n",
    "    '''\n",
    "    print('DataFrame Shape:{}\\n'.format(df.shape))\n",
    "    print('Null count:\\n{}\\n\\n'.format(df.isnull().sum()))\n",
    "    df.info()"
   ]
  },
  {
   "cell_type": "code",
   "execution_count": 3,
   "metadata": {},
   "outputs": [
    {
     "name": "stdout",
     "output_type": "stream",
     "text": [
      "DataFrame Shape:(10, 6)\n",
      "\n",
      "Null count:\n",
      "channels      0\n",
      "difficulty    0\n",
      "duration      0\n",
      "id            0\n",
      "offer_type    0\n",
      "reward        0\n",
      "dtype: int64\n",
      "\n",
      "\n",
      "<class 'pandas.core.frame.DataFrame'>\n",
      "RangeIndex: 10 entries, 0 to 9\n",
      "Data columns (total 6 columns):\n",
      "channels      10 non-null object\n",
      "difficulty    10 non-null int64\n",
      "duration      10 non-null int64\n",
      "id            10 non-null object\n",
      "offer_type    10 non-null object\n",
      "reward        10 non-null int64\n",
      "dtypes: int64(3), object(3)\n",
      "memory usage: 560.0+ bytes\n"
     ]
    }
   ],
   "source": [
    "show_basics(portfolio)"
   ]
  },
  {
   "cell_type": "code",
   "execution_count": 4,
   "metadata": {},
   "outputs": [
    {
     "name": "stdout",
     "output_type": "stream",
     "text": [
      "DataFrame Shape:(17000, 5)\n",
      "\n",
      "Null count:\n",
      "age                    0\n",
      "became_member_on       0\n",
      "gender              2175\n",
      "id                     0\n",
      "income              2175\n",
      "dtype: int64\n",
      "\n",
      "\n",
      "<class 'pandas.core.frame.DataFrame'>\n",
      "RangeIndex: 17000 entries, 0 to 16999\n",
      "Data columns (total 5 columns):\n",
      "age                 17000 non-null int64\n",
      "became_member_on    17000 non-null int64\n",
      "gender              14825 non-null object\n",
      "id                  17000 non-null object\n",
      "income              14825 non-null float64\n",
      "dtypes: float64(1), int64(2), object(2)\n",
      "memory usage: 664.1+ KB\n"
     ]
    }
   ],
   "source": [
    "show_basics(profile)"
   ]
  },
  {
   "cell_type": "code",
   "execution_count": 5,
   "metadata": {},
   "outputs": [
    {
     "name": "stdout",
     "output_type": "stream",
     "text": [
      "DataFrame Shape:(306534, 4)\n",
      "\n",
      "Null count:\n",
      "event     0\n",
      "person    0\n",
      "time      0\n",
      "value     0\n",
      "dtype: int64\n",
      "\n",
      "\n",
      "<class 'pandas.core.frame.DataFrame'>\n",
      "RangeIndex: 306534 entries, 0 to 306533\n",
      "Data columns (total 4 columns):\n",
      "event     306534 non-null object\n",
      "person    306534 non-null object\n",
      "time      306534 non-null int64\n",
      "value     306534 non-null object\n",
      "dtypes: int64(1), object(3)\n",
      "memory usage: 9.4+ MB\n"
     ]
    }
   ],
   "source": [
    "show_basics(transcript)"
   ]
  },
  {
   "cell_type": "markdown",
   "metadata": {},
   "source": [
    "# Data Visualization\n",
    "The purpose of this part is to visualize how some of the classes we have behave"
   ]
  },
  {
   "cell_type": "code",
   "execution_count": 6,
   "metadata": {},
   "outputs": [
    {
     "data": {
      "text/plain": [
       "<matplotlib.axes._subplots.AxesSubplot at 0x7fe959ae31d0>"
      ]
     },
     "execution_count": 6,
     "metadata": {},
     "output_type": "execute_result"
    },
    {
     "data": {
      "image/png": "[encoded data removed]",
      "text/plain": [
       "<matplotlib.figure.Figure at 0x7fe959ae3cc0>"
      ]
     },
     "metadata": {
      "needs_background": "light"
     },
     "output_type": "display_data"
    }
   ],
   "source": [
    "plt.title('Gender Distribution')\n",
    "profile['gender'].value_counts().sort_values().plot(kind = 'barh')"
   ]
  },
  {
   "cell_type": "code",
   "execution_count": 7,
   "metadata": {},
   "outputs": [
    {
     "data": {
      "text/plain": [
       "<matplotlib.axes._subplots.AxesSubplot at 0x7fe92da14748>"
      ]
     },
     "execution_count": 7,
     "metadata": {},
     "output_type": "execute_result"
    },
    {
     "data": {
      "image/png": "[encoded data removed]",
      "text/plain": [
       "<matplotlib.figure.Figure at 0x7fe933d88358>"
      ]
     },
     "metadata": {
      "needs_background": "light"
     },
     "output_type": "display_data"
    }
   ],
   "source": [
    "plt.title('Mean income distribution by age')\n",
    "profile.groupby('age')['income'].mean().plot(kind = 'line')"
   ]
  },
  {
   "cell_type": "code",
   "execution_count": 8,
   "metadata": {},
   "outputs": [
    {
     "data": {
      "text/plain": [
       "<matplotlib.axes._subplots.AxesSubplot at 0x7fe92d9cb4e0>"
      ]
     },
     "execution_count": 8,
     "metadata": {},
     "output_type": "execute_result"
    },
    {
     "data": {
      "image/png": "[encoded data removed]",
      "text/plain": [
       "<matplotlib.figure.Figure at 0x7fe92d9a9a20>"
      ]
     },
     "metadata": {
      "needs_background": "light"
     },
     "output_type": "display_data"
    }
   ],
   "source": [
    "plt.title('Age Distribution')\n",
    "sns.distplot(profile['age'], bins = 'sturges')"
   ]
  },
  {
   "cell_type": "markdown",
   "metadata": {},
   "source": [
    "<b>Considering the results above, applying the formula of 'sturges' to check our Bins, I consider it a good option to remove users whose age is set to 118 years old, because checking our normal distribution, the other ages are better distributed"
   ]
  },
  {
   "cell_type": "code",
   "execution_count": 9,
   "metadata": {},
   "outputs": [],
   "source": [
    "# to not change the values of our original dataframe, I will save this query in another dataframe\n",
    "profile_not_118 = profile.query('age != 118')"
   ]
  },
  {
   "cell_type": "code",
   "execution_count": 10,
   "metadata": {},
   "outputs": [
    {
     "data": {
      "text/plain": [
       "<matplotlib.axes._subplots.AxesSubplot at 0x7fe92d800400>"
      ]
     },
     "execution_count": 10,
     "metadata": {},
     "output_type": "execute_result"
    },
    {
     "data": {
      "image/png": "[encoded data removed]",
      "text/plain": [
       "<matplotlib.figure.Figure at 0x7fe92d991518>"
      ]
     },
     "metadata": {
      "needs_background": "light"
     },
     "output_type": "display_data"
    }
   ],
   "source": [
    "plt.title('Age Distribution')\n",
    "sns.distplot(profile_not_118['age'])"
   ]
  },
  {
   "cell_type": "code",
   "execution_count": 11,
   "metadata": {},
   "outputs": [
    {
     "data": {
      "text/plain": [
       "<matplotlib.axes._subplots.AxesSubplot at 0x7fe92d7a39b0>"
      ]
     },
     "execution_count": 11,
     "metadata": {},
     "output_type": "execute_result"
    },
    {
     "data": {
      "image/png": "[encoded data removed]",
      "text/plain": [
       "<matplotlib.figure.Figure at 0x7fe92d812748>"
      ]
     },
     "metadata": {
      "needs_background": "light"
     },
     "output_type": "display_data"
    }
   ],
   "source": [
    "plt.title('Mean income distribution by age')\n",
    "profile_not_118.groupby('age')['income'].mean().plot(kind = 'line')"
   ]
  },
  {
   "cell_type": "markdown",
   "metadata": {},
   "source": [
    "<b>checking the average income distribution, we see that removing users with age = 118 did not affect the previous result, so we can keep these changes.<b>"
   ]
  },
  {
   "cell_type": "markdown",
   "metadata": {},
   "source": [
    "### Data Cleaning and Preprocessing\n",
    "#### Portfolio\n",
    "\n",
    "We'll first transform the channels column on a matrix"
   ]
  },
  {
   "cell_type": "code",
   "execution_count": 12,
   "metadata": {},
   "outputs": [],
   "source": [
    "chanel_matrix = MultiLabelBinarizer().fit_transform(portfolio.channels)"
   ]
  },
  {
   "cell_type": "code",
   "execution_count": 13,
   "metadata": {},
   "outputs": [],
   "source": [
    "df_portofolio_matrix = pd.DataFrame(chanel_matrix, columns=['channel_email', 'channel_mobile', 'channel_social', 'channel_web'])"
   ]
  },
  {
   "cell_type": "code",
   "execution_count": 14,
   "metadata": {},
   "outputs": [
    {
     "data": {
      "text/html": [
       "<div>\n",
       "<style scoped>\n",
       "    .dataframe tbody tr th:only-of-type {\n",
       "        vertical-align: middle;\n",
       "    }\n",
       "\n",
       "    .dataframe tbody tr th {\n",
       "        vertical-align: top;\n",
       "    }\n",
       "\n",
       "    .dataframe thead th {\n",
       "        text-align: right;\n",
       "    }\n",
       "</style>\n",
       "<table border=\"1\" class=\"dataframe\">\n",
       "  <thead>\n",
       "    <tr style=\"text-align: right;\">\n",
       "      <th></th>\n",
       "      <th>channel_email</th>\n",
       "      <th>channel_mobile</th>\n",
       "      <th>channel_social</th>\n",
       "      <th>channel_web</th>\n",
       "    </tr>\n",
       "  </thead>\n",
       "  <tbody>\n",
       "    <tr>\n",
       "      <th>0</th>\n",
       "      <td>1</td>\n",
       "      <td>1</td>\n",
       "      <td>1</td>\n",
       "      <td>0</td>\n",
       "    </tr>\n",
       "    <tr>\n",
       "      <th>1</th>\n",
       "      <td>1</td>\n",
       "      <td>1</td>\n",
       "      <td>1</td>\n",
       "      <td>1</td>\n",
       "    </tr>\n",
       "    <tr>\n",
       "      <th>2</th>\n",
       "      <td>1</td>\n",
       "      <td>1</td>\n",
       "      <td>0</td>\n",
       "      <td>1</td>\n",
       "    </tr>\n",
       "    <tr>\n",
       "      <th>3</th>\n",
       "      <td>1</td>\n",
       "      <td>1</td>\n",
       "      <td>0</td>\n",
       "      <td>1</td>\n",
       "    </tr>\n",
       "    <tr>\n",
       "      <th>4</th>\n",
       "      <td>1</td>\n",
       "      <td>0</td>\n",
       "      <td>0</td>\n",
       "      <td>1</td>\n",
       "    </tr>\n",
       "    <tr>\n",
       "      <th>5</th>\n",
       "      <td>1</td>\n",
       "      <td>1</td>\n",
       "      <td>1</td>\n",
       "      <td>1</td>\n",
       "    </tr>\n",
       "    <tr>\n",
       "      <th>6</th>\n",
       "      <td>1</td>\n",
       "      <td>1</td>\n",
       "      <td>1</td>\n",
       "      <td>1</td>\n",
       "    </tr>\n",
       "    <tr>\n",
       "      <th>7</th>\n",
       "      <td>1</td>\n",
       "      <td>1</td>\n",
       "      <td>1</td>\n",
       "      <td>0</td>\n",
       "    </tr>\n",
       "    <tr>\n",
       "      <th>8</th>\n",
       "      <td>1</td>\n",
       "      <td>1</td>\n",
       "      <td>1</td>\n",
       "      <td>1</td>\n",
       "    </tr>\n",
       "    <tr>\n",
       "      <th>9</th>\n",
       "      <td>1</td>\n",
       "      <td>1</td>\n",
       "      <td>0</td>\n",
       "      <td>1</td>\n",
       "    </tr>\n",
       "  </tbody>\n",
       "</table>\n",
       "</div>"
      ],
      "text/plain": [
       "   channel_email  channel_mobile  channel_social  channel_web\n",
       "0              1               1               1            0\n",
       "1              1               1               1            1\n",
       "2              1               1               0            1\n",
       "3              1               1               0            1\n",
       "4              1               0               0            1\n",
       "5              1               1               1            1\n",
       "6              1               1               1            1\n",
       "7              1               1               1            0\n",
       "8              1               1               1            1\n",
       "9              1               1               0            1"
      ]
     },
     "execution_count": 14,
     "metadata": {},
     "output_type": "execute_result"
    }
   ],
   "source": [
    "# now that we got this matrix, we'll concat with the portfolio dataframe\n",
    "df_portofolio_matrix"
   ]
  },
  {
   "cell_type": "code",
   "execution_count": 15,
   "metadata": {},
   "outputs": [],
   "source": [
    "portfolio1 = pd.concat([portfolio,df_portofolio_matrix], axis=0,sort=True)"
   ]
  },
  {
   "cell_type": "code",
   "execution_count": 16,
   "metadata": {},
   "outputs": [],
   "source": [
    "df_portofolio_encoded_channel = portfolio.copy()\n",
    "df_portofolio_encoded_dummy = pd.get_dummies(df_portofolio_encoded_channel.channels.apply(pd.Series).stack()).sum(level=0)\n",
    "df_portofolio_encoded_channel = pd.concat([df_portofolio_encoded_channel, df_portofolio_encoded_dummy], axis=1)"
   ]
  },
  {
   "cell_type": "code",
   "execution_count": 17,
   "metadata": {},
   "outputs": [
    {
     "data": {
      "text/html": [
       "<div>\n",
       "<style scoped>\n",
       "    .dataframe tbody tr th:only-of-type {\n",
       "        vertical-align: middle;\n",
       "    }\n",
       "\n",
       "    .dataframe tbody tr th {\n",
       "        vertical-align: top;\n",
       "    }\n",
       "\n",
       "    .dataframe thead th {\n",
       "        text-align: right;\n",
       "    }\n",
       "</style>\n",
       "<table border=\"1\" class=\"dataframe\">\n",
       "  <thead>\n",
       "    <tr style=\"text-align: right;\">\n",
       "      <th></th>\n",
       "      <th>channels</th>\n",
       "      <th>difficulty</th>\n",
       "      <th>duration</th>\n",
       "      <th>id</th>\n",
       "      <th>offer_type</th>\n",
       "      <th>reward</th>\n",
       "      <th>email</th>\n",
       "      <th>mobile</th>\n",
       "      <th>social</th>\n",
       "      <th>web</th>\n",
       "    </tr>\n",
       "  </thead>\n",
       "  <tbody>\n",
       "    <tr>\n",
       "      <th>0</th>\n",
       "      <td>[email, mobile, social]</td>\n",
       "      <td>10</td>\n",
       "      <td>7</td>\n",
       "      <td>ae264e3637204a6fb9bb56bc8210ddfd</td>\n",
       "      <td>bogo</td>\n",
       "      <td>10</td>\n",
       "      <td>1</td>\n",
       "      <td>1</td>\n",
       "      <td>1</td>\n",
       "      <td>0</td>\n",
       "    </tr>\n",
       "    <tr>\n",
       "      <th>1</th>\n",
       "      <td>[web, email, mobile, social]</td>\n",
       "      <td>10</td>\n",
       "      <td>5</td>\n",
       "      <td>4d5c57ea9a6940dd891ad53e9dbe8da0</td>\n",
       "      <td>bogo</td>\n",
       "      <td>10</td>\n",
       "      <td>1</td>\n",
       "      <td>1</td>\n",
       "      <td>1</td>\n",
       "      <td>1</td>\n",
       "    </tr>\n",
       "    <tr>\n",
       "      <th>2</th>\n",
       "      <td>[web, email, mobile]</td>\n",
       "      <td>0</td>\n",
       "      <td>4</td>\n",
       "      <td>3f207df678b143eea3cee63160fa8bed</td>\n",
       "      <td>informational</td>\n",
       "      <td>0</td>\n",
       "      <td>1</td>\n",
       "      <td>1</td>\n",
       "      <td>0</td>\n",
       "      <td>1</td>\n",
       "    </tr>\n",
       "    <tr>\n",
       "      <th>3</th>\n",
       "      <td>[web, email, mobile]</td>\n",
       "      <td>5</td>\n",
       "      <td>7</td>\n",
       "      <td>9b98b8c7a33c4b65b9aebfe6a799e6d9</td>\n",
       "      <td>bogo</td>\n",
       "      <td>5</td>\n",
       "      <td>1</td>\n",
       "      <td>1</td>\n",
       "      <td>0</td>\n",
       "      <td>1</td>\n",
       "    </tr>\n",
       "    <tr>\n",
       "      <th>4</th>\n",
       "      <td>[web, email]</td>\n",
       "      <td>20</td>\n",
       "      <td>10</td>\n",
       "      <td>0b1e1539f2cc45b7b9fa7c272da2e1d7</td>\n",
       "      <td>discount</td>\n",
       "      <td>5</td>\n",
       "      <td>1</td>\n",
       "      <td>0</td>\n",
       "      <td>0</td>\n",
       "      <td>1</td>\n",
       "    </tr>\n",
       "    <tr>\n",
       "      <th>5</th>\n",
       "      <td>[web, email, mobile, social]</td>\n",
       "      <td>7</td>\n",
       "      <td>7</td>\n",
       "      <td>2298d6c36e964ae4a3e7e9706d1fb8c2</td>\n",
       "      <td>discount</td>\n",
       "      <td>3</td>\n",
       "      <td>1</td>\n",
       "      <td>1</td>\n",
       "      <td>1</td>\n",
       "      <td>1</td>\n",
       "    </tr>\n",
       "    <tr>\n",
       "      <th>6</th>\n",
       "      <td>[web, email, mobile, social]</td>\n",
       "      <td>10</td>\n",
       "      <td>10</td>\n",
       "      <td>fafdcd668e3743c1bb461111dcafc2a4</td>\n",
       "      <td>discount</td>\n",
       "      <td>2</td>\n",
       "      <td>1</td>\n",
       "      <td>1</td>\n",
       "      <td>1</td>\n",
       "      <td>1</td>\n",
       "    </tr>\n",
       "    <tr>\n",
       "      <th>7</th>\n",
       "      <td>[email, mobile, social]</td>\n",
       "      <td>0</td>\n",
       "      <td>3</td>\n",
       "      <td>5a8bc65990b245e5a138643cd4eb9837</td>\n",
       "      <td>informational</td>\n",
       "      <td>0</td>\n",
       "      <td>1</td>\n",
       "      <td>1</td>\n",
       "      <td>1</td>\n",
       "      <td>0</td>\n",
       "    </tr>\n",
       "    <tr>\n",
       "      <th>8</th>\n",
       "      <td>[web, email, mobile, social]</td>\n",
       "      <td>5</td>\n",
       "      <td>5</td>\n",
       "      <td>f19421c1d4aa40978ebb69ca19b0e20d</td>\n",
       "      <td>bogo</td>\n",
       "      <td>5</td>\n",
       "      <td>1</td>\n",
       "      <td>1</td>\n",
       "      <td>1</td>\n",
       "      <td>1</td>\n",
       "    </tr>\n",
       "    <tr>\n",
       "      <th>9</th>\n",
       "      <td>[web, email, mobile]</td>\n",
       "      <td>10</td>\n",
       "      <td>7</td>\n",
       "      <td>2906b810c7d4411798c6938adc9daaa5</td>\n",
       "      <td>discount</td>\n",
       "      <td>2</td>\n",
       "      <td>1</td>\n",
       "      <td>1</td>\n",
       "      <td>0</td>\n",
       "      <td>1</td>\n",
       "    </tr>\n",
       "  </tbody>\n",
       "</table>\n",
       "</div>"
      ],
      "text/plain": [
       "                       channels  difficulty  duration  \\\n",
       "0       [email, mobile, social]          10         7   \n",
       "1  [web, email, mobile, social]          10         5   \n",
       "2          [web, email, mobile]           0         4   \n",
       "3          [web, email, mobile]           5         7   \n",
       "4                  [web, email]          20        10   \n",
       "5  [web, email, mobile, social]           7         7   \n",
       "6  [web, email, mobile, social]          10        10   \n",
       "7       [email, mobile, social]           0         3   \n",
       "8  [web, email, mobile, social]           5         5   \n",
       "9          [web, email, mobile]          10         7   \n",
       "\n",
       "                                 id     offer_type  reward  email  mobile  \\\n",
       "0  ae264e3637204a6fb9bb56bc8210ddfd           bogo      10      1       1   \n",
       "1  4d5c57ea9a6940dd891ad53e9dbe8da0           bogo      10      1       1   \n",
       "2  3f207df678b143eea3cee63160fa8bed  informational       0      1       1   \n",
       "3  9b98b8c7a33c4b65b9aebfe6a799e6d9           bogo       5      1       1   \n",
       "4  0b1e1539f2cc45b7b9fa7c272da2e1d7       discount       5      1       0   \n",
       "5  2298d6c36e964ae4a3e7e9706d1fb8c2       discount       3      1       1   \n",
       "6  fafdcd668e3743c1bb461111dcafc2a4       discount       2      1       1   \n",
       "7  5a8bc65990b245e5a138643cd4eb9837  informational       0      1       1   \n",
       "8  f19421c1d4aa40978ebb69ca19b0e20d           bogo       5      1       1   \n",
       "9  2906b810c7d4411798c6938adc9daaa5       discount       2      1       1   \n",
       "\n",
       "   social  web  \n",
       "0       1    0  \n",
       "1       1    1  \n",
       "2       0    1  \n",
       "3       0    1  \n",
       "4       0    1  \n",
       "5       1    1  \n",
       "6       1    1  \n",
       "7       1    0  \n",
       "8       1    1  \n",
       "9       0    1  "
      ]
     },
     "execution_count": 17,
     "metadata": {},
     "output_type": "execute_result"
    }
   ],
   "source": [
    "# after this transformation, well transform the offer_type in a numeric value\n",
    "df_portofolio_encoded_channel"
   ]
  },
  {
   "cell_type": "code",
   "execution_count": 18,
   "metadata": {},
   "outputs": [],
   "source": [
    "# bogo = 0, discount = 1, informational = 2\n",
    "df_portofolio_encoded_channel['offer_type'] = df_portofolio_encoded_channel['offer_type'].astype('category').cat.codes"
   ]
  },
  {
   "cell_type": "code",
   "execution_count": 19,
   "metadata": {},
   "outputs": [
    {
     "data": {
      "text/html": [
       "<div>\n",
       "<style scoped>\n",
       "    .dataframe tbody tr th:only-of-type {\n",
       "        vertical-align: middle;\n",
       "    }\n",
       "\n",
       "    .dataframe tbody tr th {\n",
       "        vertical-align: top;\n",
       "    }\n",
       "\n",
       "    .dataframe thead th {\n",
       "        text-align: right;\n",
       "    }\n",
       "</style>\n",
       "<table border=\"1\" class=\"dataframe\">\n",
       "  <thead>\n",
       "    <tr style=\"text-align: right;\">\n",
       "      <th></th>\n",
       "      <th>channels</th>\n",
       "      <th>difficulty</th>\n",
       "      <th>duration</th>\n",
       "      <th>id</th>\n",
       "      <th>offer_type</th>\n",
       "      <th>reward</th>\n",
       "      <th>email</th>\n",
       "      <th>mobile</th>\n",
       "      <th>social</th>\n",
       "      <th>web</th>\n",
       "    </tr>\n",
       "  </thead>\n",
       "  <tbody>\n",
       "    <tr>\n",
       "      <th>0</th>\n",
       "      <td>[email, mobile, social]</td>\n",
       "      <td>10</td>\n",
       "      <td>7</td>\n",
       "      <td>ae264e3637204a6fb9bb56bc8210ddfd</td>\n",
       "      <td>0</td>\n",
       "      <td>10</td>\n",
       "      <td>1</td>\n",
       "      <td>1</td>\n",
       "      <td>1</td>\n",
       "      <td>0</td>\n",
       "    </tr>\n",
       "    <tr>\n",
       "      <th>1</th>\n",
       "      <td>[web, email, mobile, social]</td>\n",
       "      <td>10</td>\n",
       "      <td>5</td>\n",
       "      <td>4d5c57ea9a6940dd891ad53e9dbe8da0</td>\n",
       "      <td>0</td>\n",
       "      <td>10</td>\n",
       "      <td>1</td>\n",
       "      <td>1</td>\n",
       "      <td>1</td>\n",
       "      <td>1</td>\n",
       "    </tr>\n",
       "    <tr>\n",
       "      <th>2</th>\n",
       "      <td>[web, email, mobile]</td>\n",
       "      <td>0</td>\n",
       "      <td>4</td>\n",
       "      <td>3f207df678b143eea3cee63160fa8bed</td>\n",
       "      <td>2</td>\n",
       "      <td>0</td>\n",
       "      <td>1</td>\n",
       "      <td>1</td>\n",
       "      <td>0</td>\n",
       "      <td>1</td>\n",
       "    </tr>\n",
       "    <tr>\n",
       "      <th>3</th>\n",
       "      <td>[web, email, mobile]</td>\n",
       "      <td>5</td>\n",
       "      <td>7</td>\n",
       "      <td>9b98b8c7a33c4b65b9aebfe6a799e6d9</td>\n",
       "      <td>0</td>\n",
       "      <td>5</td>\n",
       "      <td>1</td>\n",
       "      <td>1</td>\n",
       "      <td>0</td>\n",
       "      <td>1</td>\n",
       "    </tr>\n",
       "    <tr>\n",
       "      <th>4</th>\n",
       "      <td>[web, email]</td>\n",
       "      <td>20</td>\n",
       "      <td>10</td>\n",
       "      <td>0b1e1539f2cc45b7b9fa7c272da2e1d7</td>\n",
       "      <td>1</td>\n",
       "      <td>5</td>\n",
       "      <td>1</td>\n",
       "      <td>0</td>\n",
       "      <td>0</td>\n",
       "      <td>1</td>\n",
       "    </tr>\n",
       "    <tr>\n",
       "      <th>5</th>\n",
       "      <td>[web, email, mobile, social]</td>\n",
       "      <td>7</td>\n",
       "      <td>7</td>\n",
       "      <td>2298d6c36e964ae4a3e7e9706d1fb8c2</td>\n",
       "      <td>1</td>\n",
       "      <td>3</td>\n",
       "      <td>1</td>\n",
       "      <td>1</td>\n",
       "      <td>1</td>\n",
       "      <td>1</td>\n",
       "    </tr>\n",
       "    <tr>\n",
       "      <th>6</th>\n",
       "      <td>[web, email, mobile, social]</td>\n",
       "      <td>10</td>\n",
       "      <td>10</td>\n",
       "      <td>fafdcd668e3743c1bb461111dcafc2a4</td>\n",
       "      <td>1</td>\n",
       "      <td>2</td>\n",
       "      <td>1</td>\n",
       "      <td>1</td>\n",
       "      <td>1</td>\n",
       "      <td>1</td>\n",
       "    </tr>\n",
       "    <tr>\n",
       "      <th>7</th>\n",
       "      <td>[email, mobile, social]</td>\n",
       "      <td>0</td>\n",
       "      <td>3</td>\n",
       "      <td>5a8bc65990b245e5a138643cd4eb9837</td>\n",
       "      <td>2</td>\n",
       "      <td>0</td>\n",
       "      <td>1</td>\n",
       "      <td>1</td>\n",
       "      <td>1</td>\n",
       "      <td>0</td>\n",
       "    </tr>\n",
       "    <tr>\n",
       "      <th>8</th>\n",
       "      <td>[web, email, mobile, social]</td>\n",
       "      <td>5</td>\n",
       "      <td>5</td>\n",
       "      <td>f19421c1d4aa40978ebb69ca19b0e20d</td>\n",
       "      <td>0</td>\n",
       "      <td>5</td>\n",
       "      <td>1</td>\n",
       "      <td>1</td>\n",
       "      <td>1</td>\n",
       "      <td>1</td>\n",
       "    </tr>\n",
       "    <tr>\n",
       "      <th>9</th>\n",
       "      <td>[web, email, mobile]</td>\n",
       "      <td>10</td>\n",
       "      <td>7</td>\n",
       "      <td>2906b810c7d4411798c6938adc9daaa5</td>\n",
       "      <td>1</td>\n",
       "      <td>2</td>\n",
       "      <td>1</td>\n",
       "      <td>1</td>\n",
       "      <td>0</td>\n",
       "      <td>1</td>\n",
       "    </tr>\n",
       "  </tbody>\n",
       "</table>\n",
       "</div>"
      ],
      "text/plain": [
       "                       channels  difficulty  duration  \\\n",
       "0       [email, mobile, social]          10         7   \n",
       "1  [web, email, mobile, social]          10         5   \n",
       "2          [web, email, mobile]           0         4   \n",
       "3          [web, email, mobile]           5         7   \n",
       "4                  [web, email]          20        10   \n",
       "5  [web, email, mobile, social]           7         7   \n",
       "6  [web, email, mobile, social]          10        10   \n",
       "7       [email, mobile, social]           0         3   \n",
       "8  [web, email, mobile, social]           5         5   \n",
       "9          [web, email, mobile]          10         7   \n",
       "\n",
       "                                 id  offer_type  reward  email  mobile  \\\n",
       "0  ae264e3637204a6fb9bb56bc8210ddfd           0      10      1       1   \n",
       "1  4d5c57ea9a6940dd891ad53e9dbe8da0           0      10      1       1   \n",
       "2  3f207df678b143eea3cee63160fa8bed           2       0      1       1   \n",
       "3  9b98b8c7a33c4b65b9aebfe6a799e6d9           0       5      1       1   \n",
       "4  0b1e1539f2cc45b7b9fa7c272da2e1d7           1       5      1       0   \n",
       "5  2298d6c36e964ae4a3e7e9706d1fb8c2           1       3      1       1   \n",
       "6  fafdcd668e3743c1bb461111dcafc2a4           1       2      1       1   \n",
       "7  5a8bc65990b245e5a138643cd4eb9837           2       0      1       1   \n",
       "8  f19421c1d4aa40978ebb69ca19b0e20d           0       5      1       1   \n",
       "9  2906b810c7d4411798c6938adc9daaa5           1       2      1       1   \n",
       "\n",
       "   social  web  \n",
       "0       1    0  \n",
       "1       1    1  \n",
       "2       0    1  \n",
       "3       0    1  \n",
       "4       0    1  \n",
       "5       1    1  \n",
       "6       1    1  \n",
       "7       1    0  \n",
       "8       1    1  \n",
       "9       0    1  "
      ]
     },
     "execution_count": 19,
     "metadata": {},
     "output_type": "execute_result"
    }
   ],
   "source": [
    "df_portofolio_encoded_channel"
   ]
  },
  {
   "cell_type": "markdown",
   "metadata": {},
   "source": [
    "Now we got a dataframe with a matrix on the channels and changed the offer type to numeric"
   ]
  },
  {
   "cell_type": "markdown",
   "metadata": {},
   "source": [
    "#### Profile"
   ]
  },
  {
   "cell_type": "code",
   "execution_count": 20,
   "metadata": {},
   "outputs": [],
   "source": [
    "# first well transform the became_member_on in datetime format\n",
    "profile['became_member_on'] = pd.to_datetime(profile['became_member_on'], format='%Y%m%d')"
   ]
  },
  {
   "cell_type": "code",
   "execution_count": 21,
   "metadata": {},
   "outputs": [
    {
     "data": {
      "text/plain": [
       "age                 0.000000\n",
       "became_member_on    0.000000\n",
       "gender              0.127941\n",
       "id                  0.000000\n",
       "income              0.127941\n",
       "dtype: float64"
      ]
     },
     "execution_count": 21,
     "metadata": {},
     "output_type": "execute_result"
    }
   ],
   "source": [
    "# checking null values\n",
    "profile.isnull().mean()"
   ]
  },
  {
   "cell_type": "code",
   "execution_count": 22,
   "metadata": {},
   "outputs": [
    {
     "data": {
      "text/plain": [
       "age                 0.0\n",
       "became_member_on    0.0\n",
       "gender              0.0\n",
       "id                  0.0\n",
       "income              0.0\n",
       "dtype: float64"
      ]
     },
     "execution_count": 22,
     "metadata": {},
     "output_type": "execute_result"
    }
   ],
   "source": [
    "# we created this dataset, and removing all the 118 age values, we removed the missing income as well\n",
    "profile_not_118.isnull().mean()"
   ]
  },
  {
   "cell_type": "code",
   "execution_count": 23,
   "metadata": {},
   "outputs": [
    {
     "data": {
      "text/plain": [
       "2175"
      ]
     },
     "execution_count": 23,
     "metadata": {},
     "output_type": "execute_result"
    }
   ],
   "source": [
    "# the difference between those 2 datasets are minimal, we can keep using the 2ª df profile_not_118\n",
    "len(profile) - len(profile_not_118)"
   ]
  },
  {
   "cell_type": "code",
   "execution_count": 24,
   "metadata": {
    "scrolled": true
   },
   "outputs": [
    {
     "data": {
      "text/html": [
       "<div>\n",
       "<style scoped>\n",
       "    .dataframe tbody tr th:only-of-type {\n",
       "        vertical-align: middle;\n",
       "    }\n",
       "\n",
       "    .dataframe tbody tr th {\n",
       "        vertical-align: top;\n",
       "    }\n",
       "\n",
       "    .dataframe thead th {\n",
       "        text-align: right;\n",
       "    }\n",
       "</style>\n",
       "<table border=\"1\" class=\"dataframe\">\n",
       "  <thead>\n",
       "    <tr style=\"text-align: right;\">\n",
       "      <th></th>\n",
       "      <th>age</th>\n",
       "      <th>became_member_on</th>\n",
       "      <th>gender</th>\n",
       "      <th>id</th>\n",
       "      <th>income</th>\n",
       "    </tr>\n",
       "  </thead>\n",
       "  <tbody>\n",
       "    <tr>\n",
       "      <th>0</th>\n",
       "      <td>55</td>\n",
       "      <td>2017-07-15</td>\n",
       "      <td>F</td>\n",
       "      <td>0610b486422d4921ae7d2bf64640c50b</td>\n",
       "      <td>112000.0</td>\n",
       "    </tr>\n",
       "    <tr>\n",
       "      <th>1</th>\n",
       "      <td>75</td>\n",
       "      <td>2017-05-09</td>\n",
       "      <td>F</td>\n",
       "      <td>78afa995795e4d85b5d9ceeca43f5fef</td>\n",
       "      <td>100000.0</td>\n",
       "    </tr>\n",
       "    <tr>\n",
       "      <th>2</th>\n",
       "      <td>68</td>\n",
       "      <td>2018-04-26</td>\n",
       "      <td>M</td>\n",
       "      <td>e2127556f4f64592b11af22de27a7932</td>\n",
       "      <td>70000.0</td>\n",
       "    </tr>\n",
       "    <tr>\n",
       "      <th>3</th>\n",
       "      <td>65</td>\n",
       "      <td>2018-02-09</td>\n",
       "      <td>M</td>\n",
       "      <td>389bc3fa690240e798340f5a15918d5c</td>\n",
       "      <td>53000.0</td>\n",
       "    </tr>\n",
       "    <tr>\n",
       "      <th>4</th>\n",
       "      <td>58</td>\n",
       "      <td>2017-11-11</td>\n",
       "      <td>M</td>\n",
       "      <td>2eeac8d8feae4a8cad5a6af0499a211d</td>\n",
       "      <td>51000.0</td>\n",
       "    </tr>\n",
       "    <tr>\n",
       "      <th>5</th>\n",
       "      <td>61</td>\n",
       "      <td>2017-09-11</td>\n",
       "      <td>F</td>\n",
       "      <td>aa4862eba776480b8bb9c68455b8c2e1</td>\n",
       "      <td>57000.0</td>\n",
       "    </tr>\n",
       "    <tr>\n",
       "      <th>6</th>\n",
       "      <td>26</td>\n",
       "      <td>2014-02-13</td>\n",
       "      <td>M</td>\n",
       "      <td>e12aeaf2d47d42479ea1c4ac3d8286c6</td>\n",
       "      <td>46000.0</td>\n",
       "    </tr>\n",
       "    <tr>\n",
       "      <th>7</th>\n",
       "      <td>62</td>\n",
       "      <td>2016-02-11</td>\n",
       "      <td>F</td>\n",
       "      <td>31dda685af34476cad5bc968bdb01c53</td>\n",
       "      <td>71000.0</td>\n",
       "    </tr>\n",
       "    <tr>\n",
       "      <th>8</th>\n",
       "      <td>49</td>\n",
       "      <td>2014-11-13</td>\n",
       "      <td>M</td>\n",
       "      <td>62cf5e10845442329191fc246e7bcea3</td>\n",
       "      <td>52000.0</td>\n",
       "    </tr>\n",
       "    <tr>\n",
       "      <th>9</th>\n",
       "      <td>57</td>\n",
       "      <td>2017-12-31</td>\n",
       "      <td>M</td>\n",
       "      <td>6445de3b47274c759400cd68131d91b4</td>\n",
       "      <td>42000.0</td>\n",
       "    </tr>\n",
       "    <tr>\n",
       "      <th>10</th>\n",
       "      <td>61</td>\n",
       "      <td>2018-05-01</td>\n",
       "      <td>F</td>\n",
       "      <td>a448667f336b42c9a66fc5ffd5d73772</td>\n",
       "      <td>40000.0</td>\n",
       "    </tr>\n",
       "    <tr>\n",
       "      <th>11</th>\n",
       "      <td>40</td>\n",
       "      <td>2016-05-04</td>\n",
       "      <td>F</td>\n",
       "      <td>440cf1fd7580490c971d8c651ed962af</td>\n",
       "      <td>71000.0</td>\n",
       "    </tr>\n",
       "    <tr>\n",
       "      <th>12</th>\n",
       "      <td>64</td>\n",
       "      <td>2017-09-09</td>\n",
       "      <td>M</td>\n",
       "      <td>4b0da7e80e5945209a1fdddfe813dbe0</td>\n",
       "      <td>100000.0</td>\n",
       "    </tr>\n",
       "    <tr>\n",
       "      <th>13</th>\n",
       "      <td>78</td>\n",
       "      <td>2017-06-16</td>\n",
       "      <td>F</td>\n",
       "      <td>c27e0d6ab72c455a8bb66d980963de60</td>\n",
       "      <td>71000.0</td>\n",
       "    </tr>\n",
       "    <tr>\n",
       "      <th>14</th>\n",
       "      <td>42</td>\n",
       "      <td>2013-08-11</td>\n",
       "      <td>M</td>\n",
       "      <td>f806632c011441378d4646567f357a21</td>\n",
       "      <td>69000.0</td>\n",
       "    </tr>\n",
       "    <tr>\n",
       "      <th>15</th>\n",
       "      <td>56</td>\n",
       "      <td>2018-04-28</td>\n",
       "      <td>F</td>\n",
       "      <td>d058f73bf8674a26a95227db098147b1</td>\n",
       "      <td>88000.0</td>\n",
       "    </tr>\n",
       "    <tr>\n",
       "      <th>16</th>\n",
       "      <td>33</td>\n",
       "      <td>2017-09-26</td>\n",
       "      <td>F</td>\n",
       "      <td>c6c9884912c645429f3333f912b55f44</td>\n",
       "      <td>52000.0</td>\n",
       "    </tr>\n",
       "    <tr>\n",
       "      <th>17</th>\n",
       "      <td>46</td>\n",
       "      <td>2017-09-11</td>\n",
       "      <td>F</td>\n",
       "      <td>7429a044884842d6862f516c38b1156f</td>\n",
       "      <td>59000.0</td>\n",
       "    </tr>\n",
       "    <tr>\n",
       "      <th>18</th>\n",
       "      <td>59</td>\n",
       "      <td>2015-01-21</td>\n",
       "      <td>M</td>\n",
       "      <td>ebe7ef46ea6f4963a7dd49f501b26779</td>\n",
       "      <td>41000.0</td>\n",
       "    </tr>\n",
       "    <tr>\n",
       "      <th>19</th>\n",
       "      <td>67</td>\n",
       "      <td>2014-08-23</td>\n",
       "      <td>M</td>\n",
       "      <td>5917d13f6fa04286abdf95f4d5cefb1e</td>\n",
       "      <td>96000.0</td>\n",
       "    </tr>\n",
       "    <tr>\n",
       "      <th>20</th>\n",
       "      <td>53</td>\n",
       "      <td>2017-09-16</td>\n",
       "      <td>O</td>\n",
       "      <td>d1ede868e29245ea91818a903fec04c6</td>\n",
       "      <td>52000.0</td>\n",
       "    </tr>\n",
       "    <tr>\n",
       "      <th>21</th>\n",
       "      <td>22</td>\n",
       "      <td>2017-09-25</td>\n",
       "      <td>M</td>\n",
       "      <td>1e9420836d554513ab90eba98552d0a9</td>\n",
       "      <td>70000.0</td>\n",
       "    </tr>\n",
       "    <tr>\n",
       "      <th>22</th>\n",
       "      <td>96</td>\n",
       "      <td>2017-11-17</td>\n",
       "      <td>F</td>\n",
       "      <td>868317b9be554cb18e50bc68484749a2</td>\n",
       "      <td>89000.0</td>\n",
       "    </tr>\n",
       "    <tr>\n",
       "      <th>23</th>\n",
       "      <td>40</td>\n",
       "      <td>2016-07-09</td>\n",
       "      <td>M</td>\n",
       "      <td>f082d80f0aac47a99173ba8ef8fc1909</td>\n",
       "      <td>33000.0</td>\n",
       "    </tr>\n",
       "    <tr>\n",
       "      <th>24</th>\n",
       "      <td>69</td>\n",
       "      <td>2016-08-14</td>\n",
       "      <td>F</td>\n",
       "      <td>102e9454054946fda62242d2e176fdce</td>\n",
       "      <td>57000.0</td>\n",
       "    </tr>\n",
       "    <tr>\n",
       "      <th>25</th>\n",
       "      <td>56</td>\n",
       "      <td>2014-05-11</td>\n",
       "      <td>M</td>\n",
       "      <td>8dabe2142cdf4013a6f4786edf8ab00f</td>\n",
       "      <td>68000.0</td>\n",
       "    </tr>\n",
       "    <tr>\n",
       "      <th>26</th>\n",
       "      <td>26</td>\n",
       "      <td>2017-08-12</td>\n",
       "      <td>F</td>\n",
       "      <td>9f30b375d7bd4c62a884ffe7034e09ee</td>\n",
       "      <td>63000.0</td>\n",
       "    </tr>\n",
       "    <tr>\n",
       "      <th>27</th>\n",
       "      <td>75</td>\n",
       "      <td>2015-11-12</td>\n",
       "      <td>M</td>\n",
       "      <td>6e014185620b49bd98749f728747572f</td>\n",
       "      <td>40000.0</td>\n",
       "    </tr>\n",
       "    <tr>\n",
       "      <th>28</th>\n",
       "      <td>20</td>\n",
       "      <td>2016-07-11</td>\n",
       "      <td>F</td>\n",
       "      <td>02c083884c7d45b39cc68e1314fec56c</td>\n",
       "      <td>30000.0</td>\n",
       "    </tr>\n",
       "    <tr>\n",
       "      <th>29</th>\n",
       "      <td>45</td>\n",
       "      <td>2018-07-07</td>\n",
       "      <td>M</td>\n",
       "      <td>c0d210398dee4a0895b24444a5fcd1d2</td>\n",
       "      <td>33000.0</td>\n",
       "    </tr>\n",
       "    <tr>\n",
       "      <th>...</th>\n",
       "      <td>...</td>\n",
       "      <td>...</td>\n",
       "      <td>...</td>\n",
       "      <td>...</td>\n",
       "      <td>...</td>\n",
       "    </tr>\n",
       "    <tr>\n",
       "      <th>14795</th>\n",
       "      <td>62</td>\n",
       "      <td>2017-01-12</td>\n",
       "      <td>F</td>\n",
       "      <td>8c3fbf6b89b248bb99b7a6ca628f401c</td>\n",
       "      <td>80000.0</td>\n",
       "    </tr>\n",
       "    <tr>\n",
       "      <th>14796</th>\n",
       "      <td>52</td>\n",
       "      <td>2018-04-08</td>\n",
       "      <td>M</td>\n",
       "      <td>68213b08d99a4ae1b0dcb72aebd9aa35</td>\n",
       "      <td>62000.0</td>\n",
       "    </tr>\n",
       "    <tr>\n",
       "      <th>14797</th>\n",
       "      <td>52</td>\n",
       "      <td>2018-04-09</td>\n",
       "      <td>M</td>\n",
       "      <td>e340cbf00a914f0c958577c0af36ed8a</td>\n",
       "      <td>34000.0</td>\n",
       "    </tr>\n",
       "    <tr>\n",
       "      <th>14798</th>\n",
       "      <td>54</td>\n",
       "      <td>2015-01-26</td>\n",
       "      <td>M</td>\n",
       "      <td>10316535e185400fb093c371d62254e3</td>\n",
       "      <td>51000.0</td>\n",
       "    </tr>\n",
       "    <tr>\n",
       "      <th>14799</th>\n",
       "      <td>54</td>\n",
       "      <td>2015-06-26</td>\n",
       "      <td>M</td>\n",
       "      <td>cec1cdc6b77e41abbdce8903c5522e7e</td>\n",
       "      <td>53000.0</td>\n",
       "    </tr>\n",
       "    <tr>\n",
       "      <th>14800</th>\n",
       "      <td>74</td>\n",
       "      <td>2017-07-25</td>\n",
       "      <td>M</td>\n",
       "      <td>2c6f50c1c07a444896e2a4e31d724f92</td>\n",
       "      <td>87000.0</td>\n",
       "    </tr>\n",
       "    <tr>\n",
       "      <th>14801</th>\n",
       "      <td>67</td>\n",
       "      <td>2015-11-07</td>\n",
       "      <td>M</td>\n",
       "      <td>a2e6029e17b6466187a40b66e333a73e</td>\n",
       "      <td>94000.0</td>\n",
       "    </tr>\n",
       "    <tr>\n",
       "      <th>14802</th>\n",
       "      <td>52</td>\n",
       "      <td>2018-05-22</td>\n",
       "      <td>F</td>\n",
       "      <td>6e71b66784844d1ab8376ac8ab096d4b</td>\n",
       "      <td>75000.0</td>\n",
       "    </tr>\n",
       "    <tr>\n",
       "      <th>14803</th>\n",
       "      <td>44</td>\n",
       "      <td>2017-01-19</td>\n",
       "      <td>F</td>\n",
       "      <td>e2fd53ed790240c586b3188f23542cca</td>\n",
       "      <td>51000.0</td>\n",
       "    </tr>\n",
       "    <tr>\n",
       "      <th>14804</th>\n",
       "      <td>30</td>\n",
       "      <td>2015-10-12</td>\n",
       "      <td>M</td>\n",
       "      <td>08eb126ad33f447ca3ad076482445c05</td>\n",
       "      <td>57000.0</td>\n",
       "    </tr>\n",
       "    <tr>\n",
       "      <th>14805</th>\n",
       "      <td>59</td>\n",
       "      <td>2016-01-13</td>\n",
       "      <td>F</td>\n",
       "      <td>f88e91a11d8f405b9a47ad3741415b83</td>\n",
       "      <td>71000.0</td>\n",
       "    </tr>\n",
       "    <tr>\n",
       "      <th>14806</th>\n",
       "      <td>61</td>\n",
       "      <td>2017-12-31</td>\n",
       "      <td>F</td>\n",
       "      <td>1b4df4b48bf64727a4c445909aea1251</td>\n",
       "      <td>81000.0</td>\n",
       "    </tr>\n",
       "    <tr>\n",
       "      <th>14807</th>\n",
       "      <td>39</td>\n",
       "      <td>2016-09-21</td>\n",
       "      <td>F</td>\n",
       "      <td>122c0c2a3c2540848f8c3fdc37e97639</td>\n",
       "      <td>54000.0</td>\n",
       "    </tr>\n",
       "    <tr>\n",
       "      <th>14808</th>\n",
       "      <td>29</td>\n",
       "      <td>2017-02-20</td>\n",
       "      <td>F</td>\n",
       "      <td>54bead4179c44b71acc4e8398181d183</td>\n",
       "      <td>58000.0</td>\n",
       "    </tr>\n",
       "    <tr>\n",
       "      <th>14809</th>\n",
       "      <td>63</td>\n",
       "      <td>2013-09-22</td>\n",
       "      <td>F</td>\n",
       "      <td>a00058cf10334a308c68e7631c529907</td>\n",
       "      <td>52000.0</td>\n",
       "    </tr>\n",
       "    <tr>\n",
       "      <th>14810</th>\n",
       "      <td>84</td>\n",
       "      <td>2016-06-29</td>\n",
       "      <td>M</td>\n",
       "      <td>1966fa40d2f84620b2b1b9b64f8e0209</td>\n",
       "      <td>93000.0</td>\n",
       "    </tr>\n",
       "    <tr>\n",
       "      <th>14811</th>\n",
       "      <td>72</td>\n",
       "      <td>2015-04-04</td>\n",
       "      <td>F</td>\n",
       "      <td>ff737c250d2343729ade04c4f6eb1001</td>\n",
       "      <td>65000.0</td>\n",
       "    </tr>\n",
       "    <tr>\n",
       "      <th>14812</th>\n",
       "      <td>75</td>\n",
       "      <td>2016-07-16</td>\n",
       "      <td>F</td>\n",
       "      <td>392d23b2c958493197f647bedfe4f418</td>\n",
       "      <td>78000.0</td>\n",
       "    </tr>\n",
       "    <tr>\n",
       "      <th>14813</th>\n",
       "      <td>26</td>\n",
       "      <td>2018-06-19</td>\n",
       "      <td>M</td>\n",
       "      <td>97ee6e7a12fe4064b260fa48bdd0330f</td>\n",
       "      <td>55000.0</td>\n",
       "    </tr>\n",
       "    <tr>\n",
       "      <th>14814</th>\n",
       "      <td>59</td>\n",
       "      <td>2017-07-31</td>\n",
       "      <td>F</td>\n",
       "      <td>bf3069b178fe40d789dd027901bc406b</td>\n",
       "      <td>63000.0</td>\n",
       "    </tr>\n",
       "    <tr>\n",
       "      <th>14815</th>\n",
       "      <td>57</td>\n",
       "      <td>2016-07-09</td>\n",
       "      <td>M</td>\n",
       "      <td>76ddbd6576844afe811f1a3c0fbb5bec</td>\n",
       "      <td>40000.0</td>\n",
       "    </tr>\n",
       "    <tr>\n",
       "      <th>14816</th>\n",
       "      <td>64</td>\n",
       "      <td>2018-01-04</td>\n",
       "      <td>M</td>\n",
       "      <td>f653cf2d8bba42d0a53c2937ee2e5893</td>\n",
       "      <td>51000.0</td>\n",
       "    </tr>\n",
       "    <tr>\n",
       "      <th>14817</th>\n",
       "      <td>70</td>\n",
       "      <td>2016-03-10</td>\n",
       "      <td>F</td>\n",
       "      <td>79edb810789c447e8d212a324b44cc16</td>\n",
       "      <td>39000.0</td>\n",
       "    </tr>\n",
       "    <tr>\n",
       "      <th>14818</th>\n",
       "      <td>21</td>\n",
       "      <td>2017-09-17</td>\n",
       "      <td>F</td>\n",
       "      <td>400d0536e8794cbb855b0d882d67cbda</td>\n",
       "      <td>72000.0</td>\n",
       "    </tr>\n",
       "    <tr>\n",
       "      <th>14819</th>\n",
       "      <td>60</td>\n",
       "      <td>2018-05-05</td>\n",
       "      <td>M</td>\n",
       "      <td>cb23b66c56f64b109d673d5e56574529</td>\n",
       "      <td>113000.0</td>\n",
       "    </tr>\n",
       "    <tr>\n",
       "      <th>14820</th>\n",
       "      <td>45</td>\n",
       "      <td>2018-06-04</td>\n",
       "      <td>F</td>\n",
       "      <td>6d5f3a774f3d4714ab0c092238f3a1d7</td>\n",
       "      <td>54000.0</td>\n",
       "    </tr>\n",
       "    <tr>\n",
       "      <th>14821</th>\n",
       "      <td>61</td>\n",
       "      <td>2018-07-13</td>\n",
       "      <td>M</td>\n",
       "      <td>2cb4f97358b841b9a9773a7aa05a9d77</td>\n",
       "      <td>72000.0</td>\n",
       "    </tr>\n",
       "    <tr>\n",
       "      <th>14822</th>\n",
       "      <td>49</td>\n",
       "      <td>2017-01-26</td>\n",
       "      <td>M</td>\n",
       "      <td>01d26f638c274aa0b965d24cefe3183f</td>\n",
       "      <td>73000.0</td>\n",
       "    </tr>\n",
       "    <tr>\n",
       "      <th>14823</th>\n",
       "      <td>83</td>\n",
       "      <td>2016-03-07</td>\n",
       "      <td>F</td>\n",
       "      <td>9dc1421481194dcd9400aec7c9ae6366</td>\n",
       "      <td>50000.0</td>\n",
       "    </tr>\n",
       "    <tr>\n",
       "      <th>14824</th>\n",
       "      <td>62</td>\n",
       "      <td>2017-07-22</td>\n",
       "      <td>F</td>\n",
       "      <td>e4052622e5ba45a8b96b59aba68cf068</td>\n",
       "      <td>82000.0</td>\n",
       "    </tr>\n",
       "  </tbody>\n",
       "</table>\n",
       "<p>14825 rows × 5 columns</p>\n",
       "</div>"
      ],
      "text/plain": [
       "       age became_member_on gender                                id    income\n",
       "0       55       2017-07-15      F  0610b486422d4921ae7d2bf64640c50b  112000.0\n",
       "1       75       2017-05-09      F  78afa995795e4d85b5d9ceeca43f5fef  100000.0\n",
       "2       68       2018-04-26      M  e2127556f4f64592b11af22de27a7932   70000.0\n",
       "3       65       2018-02-09      M  389bc3fa690240e798340f5a15918d5c   53000.0\n",
       "4       58       2017-11-11      M  2eeac8d8feae4a8cad5a6af0499a211d   51000.0\n",
       "5       61       2017-09-11      F  aa4862eba776480b8bb9c68455b8c2e1   57000.0\n",
       "6       26       2014-02-13      M  e12aeaf2d47d42479ea1c4ac3d8286c6   46000.0\n",
       "7       62       2016-02-11      F  31dda685af34476cad5bc968bdb01c53   71000.0\n",
       "8       49       2014-11-13      M  62cf5e10845442329191fc246e7bcea3   52000.0\n",
       "9       57       2017-12-31      M  6445de3b47274c759400cd68131d91b4   42000.0\n",
       "10      61       2018-05-01      F  a448667f336b42c9a66fc5ffd5d73772   40000.0\n",
       "11      40       2016-05-04      F  440cf1fd7580490c971d8c651ed962af   71000.0\n",
       "12      64       2017-09-09      M  4b0da7e80e5945209a1fdddfe813dbe0  100000.0\n",
       "13      78       2017-06-16      F  c27e0d6ab72c455a8bb66d980963de60   71000.0\n",
       "14      42       2013-08-11      M  f806632c011441378d4646567f357a21   69000.0\n",
       "15      56       2018-04-28      F  d058f73bf8674a26a95227db098147b1   88000.0\n",
       "16      33       2017-09-26      F  c6c9884912c645429f3333f912b55f44   52000.0\n",
       "17      46       2017-09-11      F  7429a044884842d6862f516c38b1156f   59000.0\n",
       "18      59       2015-01-21      M  ebe7ef46ea6f4963a7dd49f501b26779   41000.0\n",
       "19      67       2014-08-23      M  5917d13f6fa04286abdf95f4d5cefb1e   96000.0\n",
       "20      53       2017-09-16      O  d1ede868e29245ea91818a903fec04c6   52000.0\n",
       "21      22       2017-09-25      M  1e9420836d554513ab90eba98552d0a9   70000.0\n",
       "22      96       2017-11-17      F  868317b9be554cb18e50bc68484749a2   89000.0\n",
       "23      40       2016-07-09      M  f082d80f0aac47a99173ba8ef8fc1909   33000.0\n",
       "24      69       2016-08-14      F  102e9454054946fda62242d2e176fdce   57000.0\n",
       "25      56       2014-05-11      M  8dabe2142cdf4013a6f4786edf8ab00f   68000.0\n",
       "26      26       2017-08-12      F  9f30b375d7bd4c62a884ffe7034e09ee   63000.0\n",
       "27      75       2015-11-12      M  6e014185620b49bd98749f728747572f   40000.0\n",
       "28      20       2016-07-11      F  02c083884c7d45b39cc68e1314fec56c   30000.0\n",
       "29      45       2018-07-07      M  c0d210398dee4a0895b24444a5fcd1d2   33000.0\n",
       "...    ...              ...    ...                               ...       ...\n",
       "14795   62       2017-01-12      F  8c3fbf6b89b248bb99b7a6ca628f401c   80000.0\n",
       "14796   52       2018-04-08      M  68213b08d99a4ae1b0dcb72aebd9aa35   62000.0\n",
       "14797   52       2018-04-09      M  e340cbf00a914f0c958577c0af36ed8a   34000.0\n",
       "14798   54       2015-01-26      M  10316535e185400fb093c371d62254e3   51000.0\n",
       "14799   54       2015-06-26      M  cec1cdc6b77e41abbdce8903c5522e7e   53000.0\n",
       "14800   74       2017-07-25      M  2c6f50c1c07a444896e2a4e31d724f92   87000.0\n",
       "14801   67       2015-11-07      M  a2e6029e17b6466187a40b66e333a73e   94000.0\n",
       "14802   52       2018-05-22      F  6e71b66784844d1ab8376ac8ab096d4b   75000.0\n",
       "14803   44       2017-01-19      F  e2fd53ed790240c586b3188f23542cca   51000.0\n",
       "14804   30       2015-10-12      M  08eb126ad33f447ca3ad076482445c05   57000.0\n",
       "14805   59       2016-01-13      F  f88e91a11d8f405b9a47ad3741415b83   71000.0\n",
       "14806   61       2017-12-31      F  1b4df4b48bf64727a4c445909aea1251   81000.0\n",
       "14807   39       2016-09-21      F  122c0c2a3c2540848f8c3fdc37e97639   54000.0\n",
       "14808   29       2017-02-20      F  54bead4179c44b71acc4e8398181d183   58000.0\n",
       "14809   63       2013-09-22      F  a00058cf10334a308c68e7631c529907   52000.0\n",
       "14810   84       2016-06-29      M  1966fa40d2f84620b2b1b9b64f8e0209   93000.0\n",
       "14811   72       2015-04-04      F  ff737c250d2343729ade04c4f6eb1001   65000.0\n",
       "14812   75       2016-07-16      F  392d23b2c958493197f647bedfe4f418   78000.0\n",
       "14813   26       2018-06-19      M  97ee6e7a12fe4064b260fa48bdd0330f   55000.0\n",
       "14814   59       2017-07-31      F  bf3069b178fe40d789dd027901bc406b   63000.0\n",
       "14815   57       2016-07-09      M  76ddbd6576844afe811f1a3c0fbb5bec   40000.0\n",
       "14816   64       2018-01-04      M  f653cf2d8bba42d0a53c2937ee2e5893   51000.0\n",
       "14817   70       2016-03-10      F  79edb810789c447e8d212a324b44cc16   39000.0\n",
       "14818   21       2017-09-17      F  400d0536e8794cbb855b0d882d67cbda   72000.0\n",
       "14819   60       2018-05-05      M  cb23b66c56f64b109d673d5e56574529  113000.0\n",
       "14820   45       2018-06-04      F  6d5f3a774f3d4714ab0c092238f3a1d7   54000.0\n",
       "14821   61       2018-07-13      M  2cb4f97358b841b9a9773a7aa05a9d77   72000.0\n",
       "14822   49       2017-01-26      M  01d26f638c274aa0b965d24cefe3183f   73000.0\n",
       "14823   83       2016-03-07      F  9dc1421481194dcd9400aec7c9ae6366   50000.0\n",
       "14824   62       2017-07-22      F  e4052622e5ba45a8b96b59aba68cf068   82000.0\n",
       "\n",
       "[14825 rows x 5 columns]"
      ]
     },
     "execution_count": 24,
     "metadata": {},
     "output_type": "execute_result"
    }
   ],
   "source": [
    "profile_not_118 = profile_not_118.reset_index(drop = True)\n",
    "profile_not_118['became_member_on'] = pd.to_datetime(profile_not_118['became_member_on'], format='%Y%m%d')\n",
    "profile_not_118"
   ]
  },
  {
   "cell_type": "code",
   "execution_count": 25,
   "metadata": {},
   "outputs": [],
   "source": [
    "# now well create a gender group, M = 0 F = 1 O = 2\n",
    "gender_map = {'M':0, 'F':1, 'O':2}\n",
    "profile_not_118['gender_group'] = profile_not_118['gender'].map(gender_map)"
   ]
  },
  {
   "cell_type": "code",
   "execution_count": 26,
   "metadata": {},
   "outputs": [],
   "source": [
    "# now well add the age percentill\n",
    "profile_not_118['age_percentill'] = profile_not_118['age'].astype('str').str[0] + '0'\n",
    "profile_not_118['age_percentill'] = profile_not_118['age_percentill'].astype('int')"
   ]
  },
  {
   "cell_type": "code",
   "execution_count": 27,
   "metadata": {},
   "outputs": [
    {
     "data": {
      "text/plain": [
       "<matplotlib.axes._subplots.AxesSubplot at 0x7fe9279abdd8>"
      ]
     },
     "execution_count": 27,
     "metadata": {},
     "output_type": "execute_result"
    },
    {
     "data": {
      "image/png": "[encoded data removed]",
      "text/plain": [
       "<matplotlib.figure.Figure at 0x7fe92d76db00>"
      ]
     },
     "metadata": {
      "needs_background": "light"
     },
     "output_type": "display_data"
    }
   ],
   "source": [
    "# checking our age percentill distribution\n",
    "plt.title('Age percentill distribution')\n",
    "sns.distplot(profile_not_118['age_percentill'])"
   ]
  },
  {
   "cell_type": "code",
   "execution_count": 28,
   "metadata": {},
   "outputs": [],
   "source": [
    "# adding category codes to our age_percentill groups\n",
    "profile_not_118['percentill_group_code'] = profile_not_118['age_percentill'].astype('category').cat.codes"
   ]
  },
  {
   "cell_type": "code",
   "execution_count": 29,
   "metadata": {},
   "outputs": [],
   "source": [
    "# adding now income groups 30000 <> 59999 group 1, 60000 <> 89999 group 2 and from 90000> group 3\n",
    "profile_not_118.loc[(profile_not_118['income'] >= 30000.) & (profile_not_118['income'] <= 59999.) , 'income_group_number'] = 1\n",
    "profile_not_118.loc[(profile_not_118['income'] >= 60000.) & (profile_not_118['income'] <= 89999.) , 'income_group_number'] = 2\n",
    "profile_not_118.loc[(profile_not_118['income'] > 90000) , 'income_group_number'] = 3"
   ]
  },
  {
   "cell_type": "code",
   "execution_count": 30,
   "metadata": {},
   "outputs": [
    {
     "data": {
      "text/html": [
       "<div>\n",
       "<style scoped>\n",
       "    .dataframe tbody tr th:only-of-type {\n",
       "        vertical-align: middle;\n",
       "    }\n",
       "\n",
       "    .dataframe tbody tr th {\n",
       "        vertical-align: top;\n",
       "    }\n",
       "\n",
       "    .dataframe thead th {\n",
       "        text-align: right;\n",
       "    }\n",
       "</style>\n",
       "<table border=\"1\" class=\"dataframe\">\n",
       "  <thead>\n",
       "    <tr style=\"text-align: right;\">\n",
       "      <th></th>\n",
       "      <th>age</th>\n",
       "      <th>became_member_on</th>\n",
       "      <th>gender</th>\n",
       "      <th>id</th>\n",
       "      <th>income</th>\n",
       "      <th>gender_group</th>\n",
       "      <th>age_percentill</th>\n",
       "      <th>percentill_group_code</th>\n",
       "      <th>income_group_number</th>\n",
       "    </tr>\n",
       "  </thead>\n",
       "  <tbody>\n",
       "    <tr>\n",
       "      <th>0</th>\n",
       "      <td>55</td>\n",
       "      <td>2017-07-15</td>\n",
       "      <td>F</td>\n",
       "      <td>0610b486422d4921ae7d2bf64640c50b</td>\n",
       "      <td>112000.0</td>\n",
       "      <td>1</td>\n",
       "      <td>50</td>\n",
       "      <td>4</td>\n",
       "      <td>3.0</td>\n",
       "    </tr>\n",
       "    <tr>\n",
       "      <th>1</th>\n",
       "      <td>75</td>\n",
       "      <td>2017-05-09</td>\n",
       "      <td>F</td>\n",
       "      <td>78afa995795e4d85b5d9ceeca43f5fef</td>\n",
       "      <td>100000.0</td>\n",
       "      <td>1</td>\n",
       "      <td>70</td>\n",
       "      <td>6</td>\n",
       "      <td>3.0</td>\n",
       "    </tr>\n",
       "    <tr>\n",
       "      <th>2</th>\n",
       "      <td>68</td>\n",
       "      <td>2018-04-26</td>\n",
       "      <td>M</td>\n",
       "      <td>e2127556f4f64592b11af22de27a7932</td>\n",
       "      <td>70000.0</td>\n",
       "      <td>0</td>\n",
       "      <td>60</td>\n",
       "      <td>5</td>\n",
       "      <td>2.0</td>\n",
       "    </tr>\n",
       "    <tr>\n",
       "      <th>3</th>\n",
       "      <td>65</td>\n",
       "      <td>2018-02-09</td>\n",
       "      <td>M</td>\n",
       "      <td>389bc3fa690240e798340f5a15918d5c</td>\n",
       "      <td>53000.0</td>\n",
       "      <td>0</td>\n",
       "      <td>60</td>\n",
       "      <td>5</td>\n",
       "      <td>1.0</td>\n",
       "    </tr>\n",
       "    <tr>\n",
       "      <th>4</th>\n",
       "      <td>58</td>\n",
       "      <td>2017-11-11</td>\n",
       "      <td>M</td>\n",
       "      <td>2eeac8d8feae4a8cad5a6af0499a211d</td>\n",
       "      <td>51000.0</td>\n",
       "      <td>0</td>\n",
       "      <td>50</td>\n",
       "      <td>4</td>\n",
       "      <td>1.0</td>\n",
       "    </tr>\n",
       "  </tbody>\n",
       "</table>\n",
       "</div>"
      ],
      "text/plain": [
       "   age became_member_on gender                                id    income  \\\n",
       "0   55       2017-07-15      F  0610b486422d4921ae7d2bf64640c50b  112000.0   \n",
       "1   75       2017-05-09      F  78afa995795e4d85b5d9ceeca43f5fef  100000.0   \n",
       "2   68       2018-04-26      M  e2127556f4f64592b11af22de27a7932   70000.0   \n",
       "3   65       2018-02-09      M  389bc3fa690240e798340f5a15918d5c   53000.0   \n",
       "4   58       2017-11-11      M  2eeac8d8feae4a8cad5a6af0499a211d   51000.0   \n",
       "\n",
       "   gender_group  age_percentill  percentill_group_code  income_group_number  \n",
       "0             1              50                      4                  3.0  \n",
       "1             1              70                      6                  3.0  \n",
       "2             0              60                      5                  2.0  \n",
       "3             0              60                      5                  1.0  \n",
       "4             0              50                      4                  1.0  "
      ]
     },
     "execution_count": 30,
     "metadata": {},
     "output_type": "execute_result"
    }
   ],
   "source": [
    "profile_not_118.head()"
   ]
  },
  {
   "cell_type": "markdown",
   "metadata": {},
   "source": [
    "### Transcript"
   ]
  },
  {
   "cell_type": "code",
   "execution_count": 31,
   "metadata": {},
   "outputs": [],
   "source": [
    "# first we'll get a offer type matrix using the event columns, then concat with our original dataframe\n",
    "transcript_matrix = pd.get_dummies(transcript['event'])\n",
    "transcript = pd.concat([transcript, transcript_matrix], axis=1 )"
   ]
  },
  {
   "cell_type": "code",
   "execution_count": 32,
   "metadata": {
    "scrolled": false
   },
   "outputs": [
    {
     "data": {
      "text/html": [
       "<div>\n",
       "<style scoped>\n",
       "    .dataframe tbody tr th:only-of-type {\n",
       "        vertical-align: middle;\n",
       "    }\n",
       "\n",
       "    .dataframe tbody tr th {\n",
       "        vertical-align: top;\n",
       "    }\n",
       "\n",
       "    .dataframe thead th {\n",
       "        text-align: right;\n",
       "    }\n",
       "</style>\n",
       "<table border=\"1\" class=\"dataframe\">\n",
       "  <thead>\n",
       "    <tr style=\"text-align: right;\">\n",
       "      <th></th>\n",
       "      <th>event</th>\n",
       "      <th>person</th>\n",
       "      <th>time</th>\n",
       "      <th>value</th>\n",
       "      <th>offer completed</th>\n",
       "      <th>offer received</th>\n",
       "      <th>offer viewed</th>\n",
       "      <th>transaction</th>\n",
       "    </tr>\n",
       "  </thead>\n",
       "  <tbody>\n",
       "    <tr>\n",
       "      <th>0</th>\n",
       "      <td>offer received</td>\n",
       "      <td>78afa995795e4d85b5d9ceeca43f5fef</td>\n",
       "      <td>0</td>\n",
       "      <td>{'offer id': '9b98b8c7a33c4b65b9aebfe6a799e6d9'}</td>\n",
       "      <td>0</td>\n",
       "      <td>1</td>\n",
       "      <td>0</td>\n",
       "      <td>0</td>\n",
       "    </tr>\n",
       "    <tr>\n",
       "      <th>1</th>\n",
       "      <td>offer received</td>\n",
       "      <td>a03223e636434f42ac4c3df47e8bac43</td>\n",
       "      <td>0</td>\n",
       "      <td>{'offer id': '0b1e1539f2cc45b7b9fa7c272da2e1d7'}</td>\n",
       "      <td>0</td>\n",
       "      <td>1</td>\n",
       "      <td>0</td>\n",
       "      <td>0</td>\n",
       "    </tr>\n",
       "    <tr>\n",
       "      <th>2</th>\n",
       "      <td>offer received</td>\n",
       "      <td>e2127556f4f64592b11af22de27a7932</td>\n",
       "      <td>0</td>\n",
       "      <td>{'offer id': '2906b810c7d4411798c6938adc9daaa5'}</td>\n",
       "      <td>0</td>\n",
       "      <td>1</td>\n",
       "      <td>0</td>\n",
       "      <td>0</td>\n",
       "    </tr>\n",
       "    <tr>\n",
       "      <th>3</th>\n",
       "      <td>offer received</td>\n",
       "      <td>8ec6ce2a7e7949b1bf142def7d0e0586</td>\n",
       "      <td>0</td>\n",
       "      <td>{'offer id': 'fafdcd668e3743c1bb461111dcafc2a4'}</td>\n",
       "      <td>0</td>\n",
       "      <td>1</td>\n",
       "      <td>0</td>\n",
       "      <td>0</td>\n",
       "    </tr>\n",
       "    <tr>\n",
       "      <th>4</th>\n",
       "      <td>offer received</td>\n",
       "      <td>68617ca6246f4fbc85e91a2a49552598</td>\n",
       "      <td>0</td>\n",
       "      <td>{'offer id': '4d5c57ea9a6940dd891ad53e9dbe8da0'}</td>\n",
       "      <td>0</td>\n",
       "      <td>1</td>\n",
       "      <td>0</td>\n",
       "      <td>0</td>\n",
       "    </tr>\n",
       "  </tbody>\n",
       "</table>\n",
       "</div>"
      ],
      "text/plain": [
       "            event                            person  time  \\\n",
       "0  offer received  78afa995795e4d85b5d9ceeca43f5fef     0   \n",
       "1  offer received  a03223e636434f42ac4c3df47e8bac43     0   \n",
       "2  offer received  e2127556f4f64592b11af22de27a7932     0   \n",
       "3  offer received  8ec6ce2a7e7949b1bf142def7d0e0586     0   \n",
       "4  offer received  68617ca6246f4fbc85e91a2a49552598     0   \n",
       "\n",
       "                                              value  offer completed  \\\n",
       "0  {'offer id': '9b98b8c7a33c4b65b9aebfe6a799e6d9'}                0   \n",
       "1  {'offer id': '0b1e1539f2cc45b7b9fa7c272da2e1d7'}                0   \n",
       "2  {'offer id': '2906b810c7d4411798c6938adc9daaa5'}                0   \n",
       "3  {'offer id': 'fafdcd668e3743c1bb461111dcafc2a4'}                0   \n",
       "4  {'offer id': '4d5c57ea9a6940dd891ad53e9dbe8da0'}                0   \n",
       "\n",
       "   offer received  offer viewed  transaction  \n",
       "0               1             0            0  \n",
       "1               1             0            0  \n",
       "2               1             0            0  \n",
       "3               1             0            0  \n",
       "4               1             0            0  "
      ]
     },
     "execution_count": 32,
     "metadata": {},
     "output_type": "execute_result"
    }
   ],
   "source": [
    "transcript.head()"
   ]
  },
  {
   "cell_type": "code",
   "execution_count": 33,
   "metadata": {},
   "outputs": [],
   "source": [
    "# now extract the values of our value column\n",
    "transcript['offer_id'] = [[*i.values()][0]if [*i.keys()][0] in ['offer id','offer_id'] else None for i in transcript.value]\n",
    "transcript['amount_spent'] = [np.round([*i.values()][0], decimals=3)if [*i.keys()][0] == 'amount' else None for i in transcript.value]"
   ]
  },
  {
   "cell_type": "code",
   "execution_count": 34,
   "metadata": {},
   "outputs": [
    {
     "data": {
      "text/html": [
       "<div>\n",
       "<style scoped>\n",
       "    .dataframe tbody tr th:only-of-type {\n",
       "        vertical-align: middle;\n",
       "    }\n",
       "\n",
       "    .dataframe tbody tr th {\n",
       "        vertical-align: top;\n",
       "    }\n",
       "\n",
       "    .dataframe thead th {\n",
       "        text-align: right;\n",
       "    }\n",
       "</style>\n",
       "<table border=\"1\" class=\"dataframe\">\n",
       "  <thead>\n",
       "    <tr style=\"text-align: right;\">\n",
       "      <th></th>\n",
       "      <th>event</th>\n",
       "      <th>person</th>\n",
       "      <th>time</th>\n",
       "      <th>value</th>\n",
       "      <th>offer completed</th>\n",
       "      <th>offer received</th>\n",
       "      <th>offer viewed</th>\n",
       "      <th>transaction</th>\n",
       "      <th>offer_id</th>\n",
       "      <th>amount_spent</th>\n",
       "    </tr>\n",
       "  </thead>\n",
       "  <tbody>\n",
       "    <tr>\n",
       "      <th>0</th>\n",
       "      <td>offer received</td>\n",
       "      <td>78afa995795e4d85b5d9ceeca43f5fef</td>\n",
       "      <td>0</td>\n",
       "      <td>{'offer id': '9b98b8c7a33c4b65b9aebfe6a799e6d9'}</td>\n",
       "      <td>0</td>\n",
       "      <td>1</td>\n",
       "      <td>0</td>\n",
       "      <td>0</td>\n",
       "      <td>9b98b8c7a33c4b65b9aebfe6a799e6d9</td>\n",
       "      <td>NaN</td>\n",
       "    </tr>\n",
       "    <tr>\n",
       "      <th>1</th>\n",
       "      <td>offer received</td>\n",
       "      <td>a03223e636434f42ac4c3df47e8bac43</td>\n",
       "      <td>0</td>\n",
       "      <td>{'offer id': '0b1e1539f2cc45b7b9fa7c272da2e1d7'}</td>\n",
       "      <td>0</td>\n",
       "      <td>1</td>\n",
       "      <td>0</td>\n",
       "      <td>0</td>\n",
       "      <td>0b1e1539f2cc45b7b9fa7c272da2e1d7</td>\n",
       "      <td>NaN</td>\n",
       "    </tr>\n",
       "    <tr>\n",
       "      <th>2</th>\n",
       "      <td>offer received</td>\n",
       "      <td>e2127556f4f64592b11af22de27a7932</td>\n",
       "      <td>0</td>\n",
       "      <td>{'offer id': '2906b810c7d4411798c6938adc9daaa5'}</td>\n",
       "      <td>0</td>\n",
       "      <td>1</td>\n",
       "      <td>0</td>\n",
       "      <td>0</td>\n",
       "      <td>2906b810c7d4411798c6938adc9daaa5</td>\n",
       "      <td>NaN</td>\n",
       "    </tr>\n",
       "    <tr>\n",
       "      <th>3</th>\n",
       "      <td>offer received</td>\n",
       "      <td>8ec6ce2a7e7949b1bf142def7d0e0586</td>\n",
       "      <td>0</td>\n",
       "      <td>{'offer id': 'fafdcd668e3743c1bb461111dcafc2a4'}</td>\n",
       "      <td>0</td>\n",
       "      <td>1</td>\n",
       "      <td>0</td>\n",
       "      <td>0</td>\n",
       "      <td>fafdcd668e3743c1bb461111dcafc2a4</td>\n",
       "      <td>NaN</td>\n",
       "    </tr>\n",
       "    <tr>\n",
       "      <th>4</th>\n",
       "      <td>offer received</td>\n",
       "      <td>68617ca6246f4fbc85e91a2a49552598</td>\n",
       "      <td>0</td>\n",
       "      <td>{'offer id': '4d5c57ea9a6940dd891ad53e9dbe8da0'}</td>\n",
       "      <td>0</td>\n",
       "      <td>1</td>\n",
       "      <td>0</td>\n",
       "      <td>0</td>\n",
       "      <td>4d5c57ea9a6940dd891ad53e9dbe8da0</td>\n",
       "      <td>NaN</td>\n",
       "    </tr>\n",
       "  </tbody>\n",
       "</table>\n",
       "</div>"
      ],
      "text/plain": [
       "            event                            person  time  \\\n",
       "0  offer received  78afa995795e4d85b5d9ceeca43f5fef     0   \n",
       "1  offer received  a03223e636434f42ac4c3df47e8bac43     0   \n",
       "2  offer received  e2127556f4f64592b11af22de27a7932     0   \n",
       "3  offer received  8ec6ce2a7e7949b1bf142def7d0e0586     0   \n",
       "4  offer received  68617ca6246f4fbc85e91a2a49552598     0   \n",
       "\n",
       "                                              value  offer completed  \\\n",
       "0  {'offer id': '9b98b8c7a33c4b65b9aebfe6a799e6d9'}                0   \n",
       "1  {'offer id': '0b1e1539f2cc45b7b9fa7c272da2e1d7'}                0   \n",
       "2  {'offer id': '2906b810c7d4411798c6938adc9daaa5'}                0   \n",
       "3  {'offer id': 'fafdcd668e3743c1bb461111dcafc2a4'}                0   \n",
       "4  {'offer id': '4d5c57ea9a6940dd891ad53e9dbe8da0'}                0   \n",
       "\n",
       "   offer received  offer viewed  transaction  \\\n",
       "0               1             0            0   \n",
       "1               1             0            0   \n",
       "2               1             0            0   \n",
       "3               1             0            0   \n",
       "4               1             0            0   \n",
       "\n",
       "                           offer_id  amount_spent  \n",
       "0  9b98b8c7a33c4b65b9aebfe6a799e6d9           NaN  \n",
       "1  0b1e1539f2cc45b7b9fa7c272da2e1d7           NaN  \n",
       "2  2906b810c7d4411798c6938adc9daaa5           NaN  \n",
       "3  fafdcd668e3743c1bb461111dcafc2a4           NaN  \n",
       "4  4d5c57ea9a6940dd891ad53e9dbe8da0           NaN  "
      ]
     },
     "execution_count": 34,
     "metadata": {},
     "output_type": "execute_result"
    }
   ],
   "source": [
    "transcript.head()"
   ]
  },
  {
   "cell_type": "markdown",
   "metadata": {},
   "source": [
    "### Merging df's"
   ]
  },
  {
   "cell_type": "code",
   "execution_count": 35,
   "metadata": {},
   "outputs": [],
   "source": [
    "df_portofolio_encoded_channel.rename(columns={'id': 'offer_id'}, inplace = True)"
   ]
  },
  {
   "cell_type": "code",
   "execution_count": 36,
   "metadata": {},
   "outputs": [],
   "source": [
    "# merge between portfolio and transcript df's\n",
    "df_merged_portfolio_transcript = pd.merge(df_portofolio_encoded_channel, transcript, on='offer_id')"
   ]
  },
  {
   "cell_type": "code",
   "execution_count": 37,
   "metadata": {},
   "outputs": [],
   "source": [
    "# renaming person columns to customer_id\n",
    "df_merged_portfolio_transcript.rename(columns = {'person':'customer_id'}, inplace = True)"
   ]
  },
  {
   "cell_type": "code",
   "execution_count": 38,
   "metadata": {},
   "outputs": [],
   "source": [
    "# renaming id to customer_id\n",
    "profile_not_118.rename(columns={'id': 'customer_id'}, inplace = True)"
   ]
  },
  {
   "cell_type": "code",
   "execution_count": 39,
   "metadata": {},
   "outputs": [],
   "source": [
    "# merging df_merged_portfolio_transcript with the profile dataframe as well\n",
    "df_merged_portfolio_transcript_profile = pd.merge(df_merged_portfolio_transcript, profile_not_118, on='customer_id')"
   ]
  },
  {
   "cell_type": "markdown",
   "metadata": {},
   "source": [
    "#### Creating df for prediction"
   ]
  },
  {
   "cell_type": "code",
   "execution_count": 40,
   "metadata": {},
   "outputs": [],
   "source": [
    "# creating a df for predictions\n",
    "df_predict = df_merged_portfolio_transcript_profile.copy()"
   ]
  },
  {
   "cell_type": "code",
   "execution_count": 41,
   "metadata": {},
   "outputs": [],
   "source": [
    "df_predict.drop(['offer_id','channels','customer_id','gender','age_percentill','value','amount_spent'],\n",
    "               axis = 1, inplace = True)"
   ]
  },
  {
   "cell_type": "code",
   "execution_count": 42,
   "metadata": {},
   "outputs": [],
   "source": [
    "# transforming event column on category\n",
    "df_predict['event'] = df_predict['event'].astype('category').cat.codes"
   ]
  },
  {
   "cell_type": "code",
   "execution_count": 43,
   "metadata": {},
   "outputs": [],
   "source": [
    "# filtering for only events that are completed or viewed\n",
    "df_predict = df_predict.query('event != 1')"
   ]
  },
  {
   "cell_type": "code",
   "execution_count": 44,
   "metadata": {},
   "outputs": [
    {
     "data": {
      "text/plain": [
       "82304"
      ]
     },
     "execution_count": 44,
     "metadata": {},
     "output_type": "execute_result"
    }
   ],
   "source": [
    "# checking for duplicates\n",
    "len(df_predict)"
   ]
  },
  {
   "cell_type": "code",
   "execution_count": 45,
   "metadata": {},
   "outputs": [
    {
     "data": {
      "text/plain": [
       "81930"
      ]
     },
     "execution_count": 45,
     "metadata": {},
     "output_type": "execute_result"
    }
   ],
   "source": [
    "len(df_predict.drop_duplicates())"
   ]
  },
  {
   "cell_type": "code",
   "execution_count": 46,
   "metadata": {},
   "outputs": [],
   "source": [
    "df_predict = df_predict.drop_duplicates()"
   ]
  },
  {
   "cell_type": "code",
   "execution_count": 47,
   "metadata": {},
   "outputs": [
    {
     "data": {
      "text/plain": [
       "difficulty               0.000000\n",
       "duration                 0.000000\n",
       "offer_type               0.000000\n",
       "reward                   0.000000\n",
       "email                    0.000000\n",
       "mobile                   0.000000\n",
       "social                   0.000000\n",
       "web                      0.000000\n",
       "event                    0.000000\n",
       "time                     0.000000\n",
       "offer completed          0.000000\n",
       "offer received           0.000000\n",
       "offer viewed             0.000000\n",
       "transaction              0.000000\n",
       "age                      0.000000\n",
       "became_member_on         0.000000\n",
       "income                   0.000000\n",
       "gender_group             0.000000\n",
       "percentill_group_code    0.000000\n",
       "income_group_number      0.008861\n",
       "dtype: float64"
      ]
     },
     "execution_count": 47,
     "metadata": {},
     "output_type": "execute_result"
    }
   ],
   "source": [
    "# filling income_group_number with its previous value\n",
    "df_predict.isnull().mean()"
   ]
  },
  {
   "cell_type": "code",
   "execution_count": 48,
   "metadata": {},
   "outputs": [],
   "source": [
    "df_predict['income_group_number'].fillna(method = 'ffill', inplace = True)"
   ]
  },
  {
   "cell_type": "code",
   "execution_count": 49,
   "metadata": {},
   "outputs": [
    {
     "data": {
      "text/plain": [
       "<matplotlib.axes._subplots.AxesSubplot at 0x7fe92d41f780>"
      ]
     },
     "execution_count": 49,
     "metadata": {},
     "output_type": "execute_result"
    },
    {
     "data": {
      "image/png": "[encoded data removed]",
      "text/plain": [
       "<matplotlib.figure.Figure at 0x7fe92d9d3ac8>"
      ]
     },
     "metadata": {
      "needs_background": "light"
     },
     "output_type": "display_data"
    }
   ],
   "source": [
    "plt.title('Income group number distributions')\n",
    "sns.distplot(df_predict['income_group_number'])"
   ]
  },
  {
   "cell_type": "code",
   "execution_count": 50,
   "metadata": {},
   "outputs": [
    {
     "data": {
      "image/png": "[encoded data removed]",
      "text/plain": [
       "<matplotlib.figure.Figure at 0x7fe92d42af28>"
      ]
     },
     "metadata": {
      "needs_background": "light"
     },
     "output_type": "display_data"
    }
   ],
   "source": [
    "df_predict.groupby('event')[['email','mobile','social','web']].mean().plot(kind = 'bar')\n",
    "plt.title('Event-based engagement')\n",
    "plt.xticks(range(2), ('Viewed', 'Completed'), rotation = 50)\n",
    "plt.show()"
   ]
  },
  {
   "cell_type": "markdown",
   "metadata": {},
   "source": [
    "### Preparing X and Y variables"
   ]
  },
  {
   "cell_type": "code",
   "execution_count": 51,
   "metadata": {},
   "outputs": [],
   "source": [
    "Y = df_predict['event']\n",
    "X = df_predict[['time','difficulty','duration','reward','offer_type','percentill_group_code','income_group_number','gender_group']]"
   ]
  },
  {
   "cell_type": "code",
   "execution_count": 52,
   "metadata": {},
   "outputs": [],
   "source": [
    "X_train, X_test, y_train, y_test = train_test_split(X, Y, test_size=0.33, random_state=356)\n",
    "scaler = MinMaxScaler()\n",
    "X_train = scaler.fit_transform(X_train)\n",
    "X_test = scaler.transform(X_test)"
   ]
  },
  {
   "cell_type": "markdown",
   "metadata": {},
   "source": [
    "<b> Since we have unbalanced data, we will focus on some metrics, f1-Score and precision.\n",
    "    F1_score is a metric which is used to balance recall & precision and to deal with imbalanced labels."
   ]
  },
  {
   "cell_type": "markdown",
   "metadata": {},
   "source": [
    "# Choosing ML Models"
   ]
  },
  {
   "cell_type": "markdown",
   "metadata": {},
   "source": [
    "We'll be using classifiers for our predictions, and will be the following:<br>\n",
    "AdaBoostClassifier<br>\n",
    "GradientBoostingClassifier<br>\n",
    "ExtraTreesClassifier<br>\n",
    "RandomForestClassifier\n",
    "\n",
    "PS: we'll not be changing its hyperparameters"
   ]
  },
  {
   "cell_type": "code",
   "execution_count": 53,
   "metadata": {},
   "outputs": [],
   "source": [
    "def model_testing(ml_model):\n",
    "    '''\n",
    "    input: Instantiated machine learning model\n",
    "    output: Classification report and confusion matrix\n",
    "    return: None\n",
    "    '''\n",
    "    ml_model.fit(X_train, y_train)\n",
    "    predict = ml_model.predict(X_test)\n",
    "    print(classification_report(y_test, predict))\n",
    "    print(confusion_matrix(y_test, predict))"
   ]
  },
  {
   "cell_type": "code",
   "execution_count": 54,
   "metadata": {},
   "outputs": [],
   "source": [
    "ada_model = AdaBoostClassifier()\n",
    "gradient = GradientBoostingClassifier()\n",
    "extra_tree = ExtraTreesClassifier()\n",
    "random_forest = RandomForestClassifier()"
   ]
  },
  {
   "cell_type": "code",
   "execution_count": 55,
   "metadata": {},
   "outputs": [
    {
     "name": "stdout",
     "output_type": "stream",
     "text": [
      "             precision    recall  f1-score   support\n",
      "\n",
      "          0       0.62      0.48      0.54     10682\n",
      "          2       0.70      0.81      0.75     16355\n",
      "\n",
      "avg / total       0.67      0.68      0.67     27037\n",
      "\n",
      "[[ 5093  5589]\n",
      " [ 3092 13263]]\n"
     ]
    }
   ],
   "source": [
    "model_testing(ada_model)"
   ]
  },
  {
   "cell_type": "code",
   "execution_count": 56,
   "metadata": {},
   "outputs": [
    {
     "name": "stdout",
     "output_type": "stream",
     "text": [
      "             precision    recall  f1-score   support\n",
      "\n",
      "          0       0.63      0.51      0.56     10682\n",
      "          2       0.72      0.81      0.76     16355\n",
      "\n",
      "avg / total       0.68      0.69      0.68     27037\n",
      "\n",
      "[[ 5437  5245]\n",
      " [ 3183 13172]]\n"
     ]
    }
   ],
   "source": [
    "model_testing(gradient)"
   ]
  },
  {
   "cell_type": "code",
   "execution_count": 57,
   "metadata": {},
   "outputs": [
    {
     "name": "stdout",
     "output_type": "stream",
     "text": [
      "             precision    recall  f1-score   support\n",
      "\n",
      "          0       0.53      0.55      0.54     10682\n",
      "          2       0.70      0.69      0.69     16355\n",
      "\n",
      "avg / total       0.63      0.63      0.63     27037\n",
      "\n",
      "[[ 5827  4855]\n",
      " [ 5136 11219]]\n"
     ]
    }
   ],
   "source": [
    "model_testing(extra_tree)"
   ]
  },
  {
   "cell_type": "code",
   "execution_count": 58,
   "metadata": {},
   "outputs": [
    {
     "name": "stdout",
     "output_type": "stream",
     "text": [
      "             precision    recall  f1-score   support\n",
      "\n",
      "          0       0.54      0.49      0.51     10682\n",
      "          2       0.69      0.73      0.71     16355\n",
      "\n",
      "avg / total       0.63      0.63      0.63     27037\n",
      "\n",
      "[[ 5241  5441]\n",
      " [ 4437 11918]]\n"
     ]
    }
   ],
   "source": [
    "model_testing(random_forest)"
   ]
  },
  {
   "cell_type": "markdown",
   "metadata": {},
   "source": [
    "### Little refinement on our gradient model"
   ]
  },
  {
   "cell_type": "code",
   "execution_count": 59,
   "metadata": {},
   "outputs": [],
   "source": [
    "from sklearn.model_selection import GridSearchCV"
   ]
  },
  {
   "cell_type": "code",
   "execution_count": 72,
   "metadata": {},
   "outputs": [],
   "source": [
    "param_list = {'loss' : ['deviance', 'exponential'],\n",
    "             'learning_rate':[.1,.2,.3],\n",
    "             'n_estimators' : [100, 150],\n",
    "             'min_samples_split' : [2, 3, 4]}"
   ]
  },
  {
   "cell_type": "code",
   "execution_count": 80,
   "metadata": {},
   "outputs": [],
   "source": [
    "cv = GridSearchCV(gradient, param_grid = param_list, return_train_score = True, verbose = 3)"
   ]
  },
  {
   "cell_type": "code",
   "execution_count": 81,
   "metadata": {},
   "outputs": [
    {
     "name": "stdout",
     "output_type": "stream",
     "text": [
      "Fitting 3 folds for each of 36 candidates, totalling 108 fits\n",
      "[CV] learning_rate=0.1, loss=deviance, min_samples_split=2, n_estimators=100 \n",
      "[CV]  learning_rate=0.1, loss=deviance, min_samples_split=2, n_estimators=100, score=0.699109240942128, total=   2.0s\n",
      "[CV] learning_rate=0.1, loss=deviance, min_samples_split=2, n_estimators=100 \n"
     ]
    },
    {
     "name": "stderr",
     "output_type": "stream",
     "text": [
      "[Parallel(n_jobs=1)]: Done   1 out of   1 | elapsed:    2.0s remaining:    0.0s\n"
     ]
    },
    {
     "name": "stdout",
     "output_type": "stream",
     "text": [
      "[CV]  learning_rate=0.1, loss=deviance, min_samples_split=2, n_estimators=100, score=0.695578510138274, total=   2.0s\n",
      "[CV] learning_rate=0.1, loss=deviance, min_samples_split=2, n_estimators=100 \n"
     ]
    },
    {
     "name": "stderr",
     "output_type": "stream",
     "text": [
      "[Parallel(n_jobs=1)]: Done   2 out of   2 | elapsed:    4.1s remaining:    0.0s\n"
     ]
    },
    {
     "name": "stdout",
     "output_type": "stream",
     "text": [
      "[CV]  learning_rate=0.1, loss=deviance, min_samples_split=2, n_estimators=100, score=0.6924632453407662, total=   1.9s\n",
      "[CV] learning_rate=0.1, loss=deviance, min_samples_split=2, n_estimators=150 \n",
      "[CV]  learning_rate=0.1, loss=deviance, min_samples_split=2, n_estimators=150, score=0.7009126181758566, total=   2.9s\n",
      "[CV] learning_rate=0.1, loss=deviance, min_samples_split=2, n_estimators=150 \n",
      "[CV]  learning_rate=0.1, loss=deviance, min_samples_split=2, n_estimators=150, score=0.696562277969066, total=   2.9s\n",
      "[CV] learning_rate=0.1, loss=deviance, min_samples_split=2, n_estimators=150 \n",
      "[CV]  learning_rate=0.1, loss=deviance, min_samples_split=2, n_estimators=150, score=0.6949773186861234, total=   3.0s\n",
      "[CV] learning_rate=0.1, loss=deviance, min_samples_split=3, n_estimators=100 \n",
      "[CV]  learning_rate=0.1, loss=deviance, min_samples_split=3, n_estimators=100, score=0.699109240942128, total=   1.9s\n",
      "[CV] learning_rate=0.1, loss=deviance, min_samples_split=3, n_estimators=100 \n",
      "[CV]  learning_rate=0.1, loss=deviance, min_samples_split=3, n_estimators=100, score=0.695578510138274, total=   1.9s\n",
      "[CV] learning_rate=0.1, loss=deviance, min_samples_split=3, n_estimators=100 \n",
      "[CV]  learning_rate=0.1, loss=deviance, min_samples_split=3, n_estimators=100, score=0.6924632453407662, total=   2.0s\n",
      "[CV] learning_rate=0.1, loss=deviance, min_samples_split=3, n_estimators=150 \n",
      "[CV]  learning_rate=0.1, loss=deviance, min_samples_split=3, n_estimators=150, score=0.7009126181758566, total=   3.1s\n",
      "[CV] learning_rate=0.1, loss=deviance, min_samples_split=3, n_estimators=150 \n",
      "[CV]  learning_rate=0.1, loss=deviance, min_samples_split=3, n_estimators=150, score=0.696562277969066, total=   2.9s\n",
      "[CV] learning_rate=0.1, loss=deviance, min_samples_split=3, n_estimators=150 \n",
      "[CV]  learning_rate=0.1, loss=deviance, min_samples_split=3, n_estimators=150, score=0.6949773186861234, total=   2.9s\n",
      "[CV] learning_rate=0.1, loss=deviance, min_samples_split=4, n_estimators=100 \n",
      "[CV]  learning_rate=0.1, loss=deviance, min_samples_split=4, n_estimators=100, score=0.699109240942128, total=   2.0s\n",
      "[CV] learning_rate=0.1, loss=deviance, min_samples_split=4, n_estimators=100 \n",
      "[CV]  learning_rate=0.1, loss=deviance, min_samples_split=4, n_estimators=100, score=0.695578510138274, total=   1.9s\n",
      "[CV] learning_rate=0.1, loss=deviance, min_samples_split=4, n_estimators=100 \n",
      "[CV]  learning_rate=0.1, loss=deviance, min_samples_split=4, n_estimators=100, score=0.6924632453407662, total=   1.9s\n",
      "[CV] learning_rate=0.1, loss=deviance, min_samples_split=4, n_estimators=150 \n",
      "[CV]  learning_rate=0.1, loss=deviance, min_samples_split=4, n_estimators=150, score=0.7009126181758566, total=   2.9s\n",
      "[CV] learning_rate=0.1, loss=deviance, min_samples_split=4, n_estimators=150 \n",
      "[CV]  learning_rate=0.1, loss=deviance, min_samples_split=4, n_estimators=150, score=0.696562277969066, total=   2.9s\n",
      "[CV] learning_rate=0.1, loss=deviance, min_samples_split=4, n_estimators=150 \n",
      "[CV]  learning_rate=0.1, loss=deviance, min_samples_split=4, n_estimators=150, score=0.6949773186861234, total=   3.0s\n",
      "[CV] learning_rate=0.1, loss=exponential, min_samples_split=2, n_estimators=100 \n",
      "[CV]  learning_rate=0.1, loss=exponential, min_samples_split=2, n_estimators=100, score=0.6978523416580141, total=   2.0s\n",
      "[CV] learning_rate=0.1, loss=exponential, min_samples_split=2, n_estimators=100 \n",
      "[CV]  learning_rate=0.1, loss=exponential, min_samples_split=2, n_estimators=100, score=0.6966715855058206, total=   2.0s\n",
      "[CV] learning_rate=0.1, loss=exponential, min_samples_split=2, n_estimators=100 \n",
      "[CV]  learning_rate=0.1, loss=exponential, min_samples_split=2, n_estimators=100, score=0.6925178991091436, total=   2.0s\n",
      "[CV] learning_rate=0.1, loss=exponential, min_samples_split=2, n_estimators=150 \n",
      "[CV]  learning_rate=0.1, loss=exponential, min_samples_split=2, n_estimators=150, score=0.701076561560741, total=   3.0s\n",
      "[CV] learning_rate=0.1, loss=exponential, min_samples_split=2, n_estimators=150 \n",
      "[CV]  learning_rate=0.1, loss=exponential, min_samples_split=2, n_estimators=150, score=0.6974913920314806, total=   3.0s\n",
      "[CV] learning_rate=0.1, loss=exponential, min_samples_split=2, n_estimators=150 \n",
      "[CV]  learning_rate=0.1, loss=exponential, min_samples_split=2, n_estimators=150, score=0.69607039405367, total=   3.0s\n",
      "[CV] learning_rate=0.1, loss=exponential, min_samples_split=3, n_estimators=100 \n",
      "[CV]  learning_rate=0.1, loss=exponential, min_samples_split=3, n_estimators=100, score=0.6978523416580141, total=   2.0s\n",
      "[CV] learning_rate=0.1, loss=exponential, min_samples_split=3, n_estimators=100 \n",
      "[CV]  learning_rate=0.1, loss=exponential, min_samples_split=3, n_estimators=100, score=0.6966715855058206, total=   2.1s\n",
      "[CV] learning_rate=0.1, loss=exponential, min_samples_split=3, n_estimators=100 \n",
      "[CV]  learning_rate=0.1, loss=exponential, min_samples_split=3, n_estimators=100, score=0.6925178991091436, total=   2.0s\n",
      "[CV] learning_rate=0.1, loss=exponential, min_samples_split=3, n_estimators=150 \n",
      "[CV]  learning_rate=0.1, loss=exponential, min_samples_split=3, n_estimators=150, score=0.701076561560741, total=   3.1s\n",
      "[CV] learning_rate=0.1, loss=exponential, min_samples_split=3, n_estimators=150 \n",
      "[CV]  learning_rate=0.1, loss=exponential, min_samples_split=3, n_estimators=150, score=0.6974913920314806, total=   2.9s\n",
      "[CV] learning_rate=0.1, loss=exponential, min_samples_split=3, n_estimators=150 \n",
      "[CV]  learning_rate=0.1, loss=exponential, min_samples_split=3, n_estimators=150, score=0.69607039405367, total=   3.1s\n",
      "[CV] learning_rate=0.1, loss=exponential, min_samples_split=4, n_estimators=100 \n",
      "[CV]  learning_rate=0.1, loss=exponential, min_samples_split=4, n_estimators=100, score=0.6978523416580141, total=   2.0s\n",
      "[CV] learning_rate=0.1, loss=exponential, min_samples_split=4, n_estimators=100 \n",
      "[CV]  learning_rate=0.1, loss=exponential, min_samples_split=4, n_estimators=100, score=0.6966715855058206, total=   2.0s\n",
      "[CV] learning_rate=0.1, loss=exponential, min_samples_split=4, n_estimators=100 \n",
      "[CV]  learning_rate=0.1, loss=exponential, min_samples_split=4, n_estimators=100, score=0.6925178991091436, total=   2.0s\n",
      "[CV] learning_rate=0.1, loss=exponential, min_samples_split=4, n_estimators=150 \n",
      "[CV]  learning_rate=0.1, loss=exponential, min_samples_split=4, n_estimators=150, score=0.701076561560741, total=   3.1s\n",
      "[CV] learning_rate=0.1, loss=exponential, min_samples_split=4, n_estimators=150 \n",
      "[CV]  learning_rate=0.1, loss=exponential, min_samples_split=4, n_estimators=150, score=0.6974913920314806, total=   2.9s\n",
      "[CV] learning_rate=0.1, loss=exponential, min_samples_split=4, n_estimators=150 \n",
      "[CV]  learning_rate=0.1, loss=exponential, min_samples_split=4, n_estimators=150, score=0.69607039405367, total=   3.0s\n",
      "[CV] learning_rate=0.2, loss=deviance, min_samples_split=2, n_estimators=100 \n",
      "[CV]  learning_rate=0.2, loss=deviance, min_samples_split=2, n_estimators=100, score=0.7017323351002787, total=   1.9s\n",
      "[CV] learning_rate=0.2, loss=deviance, min_samples_split=2, n_estimators=100 \n",
      "[CV]  learning_rate=0.2, loss=deviance, min_samples_split=2, n_estimators=100, score=0.6973820844947259, total=   1.9s\n",
      "[CV] learning_rate=0.2, loss=deviance, min_samples_split=2, n_estimators=100 \n",
      "[CV]  learning_rate=0.2, loss=deviance, min_samples_split=2, n_estimators=100, score=0.6953598950647647, total=   1.9s\n",
      "[CV] learning_rate=0.2, loss=deviance, min_samples_split=2, n_estimators=150 \n",
      "[CV]  learning_rate=0.2, loss=deviance, min_samples_split=2, n_estimators=150, score=0.7015683917153943, total=   2.9s\n",
      "[CV] learning_rate=0.2, loss=deviance, min_samples_split=2, n_estimators=150 \n",
      "[CV]  learning_rate=0.2, loss=deviance, min_samples_split=2, n_estimators=150, score=0.6976006995682352, total=   2.9s\n",
      "[CV] learning_rate=0.2, loss=deviance, min_samples_split=2, n_estimators=150 \n",
      "[CV]  learning_rate=0.2, loss=deviance, min_samples_split=2, n_estimators=150, score=0.6946493960758594, total=   2.9s\n",
      "[CV] learning_rate=0.2, loss=deviance, min_samples_split=3, n_estimators=100 \n",
      "[CV]  learning_rate=0.2, loss=deviance, min_samples_split=3, n_estimators=100, score=0.7017323351002787, total=   2.0s\n",
      "[CV] learning_rate=0.2, loss=deviance, min_samples_split=3, n_estimators=100 \n",
      "[CV]  learning_rate=0.2, loss=deviance, min_samples_split=3, n_estimators=100, score=0.6973820844947259, total=   1.9s\n",
      "[CV] learning_rate=0.2, loss=deviance, min_samples_split=3, n_estimators=100 \n",
      "[CV]  learning_rate=0.2, loss=deviance, min_samples_split=3, n_estimators=100, score=0.6953598950647647, total=   1.9s\n",
      "[CV] learning_rate=0.2, loss=deviance, min_samples_split=3, n_estimators=150 \n",
      "[CV]  learning_rate=0.2, loss=deviance, min_samples_split=3, n_estimators=150, score=0.7015683917153943, total=   2.8s\n",
      "[CV] learning_rate=0.2, loss=deviance, min_samples_split=3, n_estimators=150 \n",
      "[CV]  learning_rate=0.2, loss=deviance, min_samples_split=3, n_estimators=150, score=0.6976006995682352, total=   2.8s\n",
      "[CV] learning_rate=0.2, loss=deviance, min_samples_split=3, n_estimators=150 \n",
      "[CV]  learning_rate=0.2, loss=deviance, min_samples_split=3, n_estimators=150, score=0.6946493960758594, total=   2.9s\n",
      "[CV] learning_rate=0.2, loss=deviance, min_samples_split=4, n_estimators=100 \n",
      "[CV]  learning_rate=0.2, loss=deviance, min_samples_split=4, n_estimators=100, score=0.7017323351002787, total=   2.1s\n",
      "[CV] learning_rate=0.2, loss=deviance, min_samples_split=4, n_estimators=100 \n",
      "[CV]  learning_rate=0.2, loss=deviance, min_samples_split=4, n_estimators=100, score=0.6973820844947259, total=   1.9s\n",
      "[CV] learning_rate=0.2, loss=deviance, min_samples_split=4, n_estimators=100 \n",
      "[CV]  learning_rate=0.2, loss=deviance, min_samples_split=4, n_estimators=100, score=0.6953598950647647, total=   2.0s\n",
      "[CV] learning_rate=0.2, loss=deviance, min_samples_split=4, n_estimators=150 \n",
      "[CV]  learning_rate=0.2, loss=deviance, min_samples_split=4, n_estimators=150, score=0.702114869665009, total=   2.8s\n",
      "[CV] learning_rate=0.2, loss=deviance, min_samples_split=4, n_estimators=150 \n",
      "[CV]  learning_rate=0.2, loss=deviance, min_samples_split=4, n_estimators=150, score=0.6976006995682352, total=   2.8s\n",
      "[CV] learning_rate=0.2, loss=deviance, min_samples_split=4, n_estimators=150 \n",
      "[CV]  learning_rate=0.2, loss=deviance, min_samples_split=4, n_estimators=150, score=0.6946493960758594, total=   2.9s\n",
      "[CV] learning_rate=0.2, loss=exponential, min_samples_split=2, n_estimators=100 \n",
      "[CV]  learning_rate=0.2, loss=exponential, min_samples_split=2, n_estimators=100, score=0.6999289578665501, total=   2.0s\n",
      "[CV] learning_rate=0.2, loss=exponential, min_samples_split=2, n_estimators=100 \n",
      "[CV]  learning_rate=0.2, loss=exponential, min_samples_split=2, n_estimators=100, score=0.696234355358802, total=   2.0s\n",
      "[CV] learning_rate=0.2, loss=exponential, min_samples_split=2, n_estimators=100 \n",
      "[CV]  learning_rate=0.2, loss=exponential, min_samples_split=2, n_estimators=100, score=0.6953052412963874, total=   2.0s\n",
      "[CV] learning_rate=0.2, loss=exponential, min_samples_split=2, n_estimators=150 \n",
      "[CV]  learning_rate=0.2, loss=exponential, min_samples_split=2, n_estimators=150, score=0.7026066998196623, total=   3.1s\n",
      "[CV] learning_rate=0.2, loss=exponential, min_samples_split=2, n_estimators=150 \n",
      "[CV]  learning_rate=0.2, loss=exponential, min_samples_split=2, n_estimators=150, score=0.6964529704323114, total=   3.0s\n",
      "[CV] learning_rate=0.2, loss=exponential, min_samples_split=2, n_estimators=150 \n",
      "[CV]  learning_rate=0.2, loss=exponential, min_samples_split=2, n_estimators=150, score=0.6951959337596327, total=   3.0s\n",
      "[CV] learning_rate=0.2, loss=exponential, min_samples_split=3, n_estimators=100 \n",
      "[CV]  learning_rate=0.2, loss=exponential, min_samples_split=3, n_estimators=100, score=0.6999289578665501, total=   2.0s\n",
      "[CV] learning_rate=0.2, loss=exponential, min_samples_split=3, n_estimators=100 \n",
      "[CV]  learning_rate=0.2, loss=exponential, min_samples_split=3, n_estimators=100, score=0.696234355358802, total=   1.9s\n",
      "[CV] learning_rate=0.2, loss=exponential, min_samples_split=3, n_estimators=100 \n",
      "[CV]  learning_rate=0.2, loss=exponential, min_samples_split=3, n_estimators=100, score=0.6953052412963874, total=   2.0s\n",
      "[CV] learning_rate=0.2, loss=exponential, min_samples_split=3, n_estimators=150 \n",
      "[CV]  learning_rate=0.2, loss=exponential, min_samples_split=3, n_estimators=150, score=0.7026066998196623, total=   2.9s\n",
      "[CV] learning_rate=0.2, loss=exponential, min_samples_split=3, n_estimators=150 \n",
      "[CV]  learning_rate=0.2, loss=exponential, min_samples_split=3, n_estimators=150, score=0.6965076242006887, total=   3.1s\n",
      "[CV] learning_rate=0.2, loss=exponential, min_samples_split=3, n_estimators=150 \n",
      "[CV]  learning_rate=0.2, loss=exponential, min_samples_split=3, n_estimators=150, score=0.6951959337596327, total=   3.0s\n",
      "[CV] learning_rate=0.2, loss=exponential, min_samples_split=4, n_estimators=100 \n",
      "[CV]  learning_rate=0.2, loss=exponential, min_samples_split=4, n_estimators=100, score=0.6999289578665501, total=   2.0s\n",
      "[CV] learning_rate=0.2, loss=exponential, min_samples_split=4, n_estimators=100 \n",
      "[CV]  learning_rate=0.2, loss=exponential, min_samples_split=4, n_estimators=100, score=0.696234355358802, total=   2.0s\n",
      "[CV] learning_rate=0.2, loss=exponential, min_samples_split=4, n_estimators=100 \n",
      "[CV]  learning_rate=0.2, loss=exponential, min_samples_split=4, n_estimators=100, score=0.6953052412963874, total=   2.0s\n",
      "[CV] learning_rate=0.2, loss=exponential, min_samples_split=4, n_estimators=150 \n",
      "[CV]  learning_rate=0.2, loss=exponential, min_samples_split=4, n_estimators=150, score=0.7026066998196623, total=   3.0s\n",
      "[CV] learning_rate=0.2, loss=exponential, min_samples_split=4, n_estimators=150 \n",
      "[CV]  learning_rate=0.2, loss=exponential, min_samples_split=4, n_estimators=150, score=0.6965076242006887, total=   2.9s\n",
      "[CV] learning_rate=0.2, loss=exponential, min_samples_split=4, n_estimators=150 \n",
      "[CV]  learning_rate=0.2, loss=exponential, min_samples_split=4, n_estimators=150, score=0.6951959337596327, total=   3.0s\n",
      "[CV] learning_rate=0.3, loss=deviance, min_samples_split=2, n_estimators=100 \n",
      "[CV]  learning_rate=0.3, loss=deviance, min_samples_split=2, n_estimators=100, score=0.702114869665009, total=   2.1s\n",
      "[CV] learning_rate=0.3, loss=deviance, min_samples_split=2, n_estimators=100 \n",
      "[CV]  learning_rate=0.3, loss=deviance, min_samples_split=2, n_estimators=100, score=0.6970541618844619, total=   1.9s\n",
      "[CV] learning_rate=0.3, loss=deviance, min_samples_split=2, n_estimators=100 \n",
      "[CV]  learning_rate=0.3, loss=deviance, min_samples_split=2, n_estimators=100, score=0.6950319724545008, total=   1.9s\n",
      "[CV] learning_rate=0.3, loss=deviance, min_samples_split=2, n_estimators=150 \n",
      "[CV]  learning_rate=0.3, loss=deviance, min_samples_split=2, n_estimators=150, score=0.7006393792010492, total=   2.9s\n",
      "[CV] learning_rate=0.3, loss=deviance, min_samples_split=2, n_estimators=150 \n",
      "[CV]  learning_rate=0.3, loss=deviance, min_samples_split=2, n_estimators=150, score=0.696562277969066, total=   2.8s\n",
      "[CV] learning_rate=0.3, loss=deviance, min_samples_split=2, n_estimators=150 \n",
      "[CV]  learning_rate=0.3, loss=deviance, min_samples_split=2, n_estimators=150, score=0.6950319724545008, total=   2.9s\n",
      "[CV] learning_rate=0.3, loss=deviance, min_samples_split=3, n_estimators=100 \n",
      "[CV]  learning_rate=0.3, loss=deviance, min_samples_split=3, n_estimators=100, score=0.702114869665009, total=   1.9s\n",
      "[CV] learning_rate=0.3, loss=deviance, min_samples_split=3, n_estimators=100 \n",
      "[CV]  learning_rate=0.3, loss=deviance, min_samples_split=3, n_estimators=100, score=0.6970541618844619, total=   1.9s\n",
      "[CV] learning_rate=0.3, loss=deviance, min_samples_split=3, n_estimators=100 \n",
      "[CV]  learning_rate=0.3, loss=deviance, min_samples_split=3, n_estimators=100, score=0.6950319724545008, total=   2.1s\n",
      "[CV] learning_rate=0.3, loss=deviance, min_samples_split=3, n_estimators=150 \n",
      "[CV]  learning_rate=0.3, loss=deviance, min_samples_split=3, n_estimators=150, score=0.7006393792010492, total=   2.9s\n",
      "[CV] learning_rate=0.3, loss=deviance, min_samples_split=3, n_estimators=150 \n",
      "[CV]  learning_rate=0.3, loss=deviance, min_samples_split=3, n_estimators=150, score=0.6961797015904246, total=   2.8s\n",
      "[CV] learning_rate=0.3, loss=deviance, min_samples_split=3, n_estimators=150 \n",
      "[CV]  learning_rate=0.3, loss=deviance, min_samples_split=3, n_estimators=150, score=0.6950319724545008, total=   2.8s\n",
      "[CV] learning_rate=0.3, loss=deviance, min_samples_split=4, n_estimators=100 \n",
      "[CV]  learning_rate=0.3, loss=deviance, min_samples_split=4, n_estimators=100, score=0.702114869665009, total=   1.9s\n",
      "[CV] learning_rate=0.3, loss=deviance, min_samples_split=4, n_estimators=100 \n",
      "[CV]  learning_rate=0.3, loss=deviance, min_samples_split=4, n_estimators=100, score=0.6970541618844619, total=   1.9s\n",
      "[CV] learning_rate=0.3, loss=deviance, min_samples_split=4, n_estimators=100 \n",
      "[CV]  learning_rate=0.3, loss=deviance, min_samples_split=4, n_estimators=100, score=0.6950319724545008, total=   2.0s\n",
      "[CV] learning_rate=0.3, loss=deviance, min_samples_split=4, n_estimators=150 \n",
      "[CV]  learning_rate=0.3, loss=deviance, min_samples_split=4, n_estimators=150, score=0.700147549046396, total=   2.9s\n",
      "[CV] learning_rate=0.3, loss=deviance, min_samples_split=4, n_estimators=150 \n",
      "[CV]  learning_rate=0.3, loss=deviance, min_samples_split=4, n_estimators=150, score=0.6961797015904246, total=   3.0s\n",
      "[CV] learning_rate=0.3, loss=deviance, min_samples_split=4, n_estimators=150 \n",
      "[CV]  learning_rate=0.3, loss=deviance, min_samples_split=4, n_estimators=150, score=0.6950319724545008, total=   2.9s\n",
      "[CV] learning_rate=0.3, loss=exponential, min_samples_split=2, n_estimators=100 \n",
      "[CV]  learning_rate=0.3, loss=exponential, min_samples_split=2, n_estimators=100, score=0.7023881086398164, total=   2.0s\n",
      "[CV] learning_rate=0.3, loss=exponential, min_samples_split=2, n_estimators=100 \n",
      "[CV]  learning_rate=0.3, loss=exponential, min_samples_split=2, n_estimators=100, score=0.6977646608733672, total=   2.0s\n",
      "[CV] learning_rate=0.3, loss=exponential, min_samples_split=2, n_estimators=100 \n",
      "[CV]  learning_rate=0.3, loss=exponential, min_samples_split=2, n_estimators=100, score=0.6962890091271793, total=   2.0s\n",
      "[CV] learning_rate=0.3, loss=exponential, min_samples_split=2, n_estimators=150 \n",
      "[CV]  learning_rate=0.3, loss=exponential, min_samples_split=2, n_estimators=150, score=0.702114869665009, total=   3.0s\n",
      "[CV] learning_rate=0.3, loss=exponential, min_samples_split=2, n_estimators=150 \n",
      "[CV]  learning_rate=0.3, loss=exponential, min_samples_split=2, n_estimators=150, score=0.6967808930425753, total=   2.9s\n",
      "[CV] learning_rate=0.3, loss=exponential, min_samples_split=2, n_estimators=150 \n",
      "[CV]  learning_rate=0.3, loss=exponential, min_samples_split=2, n_estimators=150, score=0.69607039405367, total=   3.0s\n",
      "[CV] learning_rate=0.3, loss=exponential, min_samples_split=3, n_estimators=100 \n",
      "[CV]  learning_rate=0.3, loss=exponential, min_samples_split=3, n_estimators=100, score=0.7023881086398164, total=   2.1s\n",
      "[CV] learning_rate=0.3, loss=exponential, min_samples_split=3, n_estimators=100 \n",
      "[CV]  learning_rate=0.3, loss=exponential, min_samples_split=3, n_estimators=100, score=0.6977646608733672, total=   1.9s\n",
      "[CV] learning_rate=0.3, loss=exponential, min_samples_split=3, n_estimators=100 \n",
      "[CV]  learning_rate=0.3, loss=exponential, min_samples_split=3, n_estimators=100, score=0.6962890091271793, total=   2.0s\n",
      "[CV] learning_rate=0.3, loss=exponential, min_samples_split=3, n_estimators=150 \n",
      "[CV]  learning_rate=0.3, loss=exponential, min_samples_split=3, n_estimators=150, score=0.702114869665009, total=   3.0s\n",
      "[CV] learning_rate=0.3, loss=exponential, min_samples_split=3, n_estimators=150 \n",
      "[CV]  learning_rate=0.3, loss=exponential, min_samples_split=3, n_estimators=150, score=0.696726239274198, total=   2.9s\n",
      "[CV] learning_rate=0.3, loss=exponential, min_samples_split=3, n_estimators=150 \n",
      "[CV]  learning_rate=0.3, loss=exponential, min_samples_split=3, n_estimators=150, score=0.69607039405367, total=   3.0s\n",
      "[CV] learning_rate=0.3, loss=exponential, min_samples_split=4, n_estimators=100 \n",
      "[CV]  learning_rate=0.3, loss=exponential, min_samples_split=4, n_estimators=100, score=0.7023881086398164, total=   2.0s\n",
      "[CV] learning_rate=0.3, loss=exponential, min_samples_split=4, n_estimators=100 \n",
      "[CV]  learning_rate=0.3, loss=exponential, min_samples_split=4, n_estimators=100, score=0.6977646608733672, total=   1.9s\n",
      "[CV] learning_rate=0.3, loss=exponential, min_samples_split=4, n_estimators=100 \n",
      "[CV]  learning_rate=0.3, loss=exponential, min_samples_split=4, n_estimators=100, score=0.6962890091271793, total=   2.1s\n",
      "[CV] learning_rate=0.3, loss=exponential, min_samples_split=4, n_estimators=150 \n",
      "[CV]  learning_rate=0.3, loss=exponential, min_samples_split=4, n_estimators=150, score=0.702114869665009, total=   3.0s\n",
      "[CV] learning_rate=0.3, loss=exponential, min_samples_split=4, n_estimators=150 \n",
      "[CV]  learning_rate=0.3, loss=exponential, min_samples_split=4, n_estimators=150, score=0.696726239274198, total=   2.9s\n",
      "[CV] learning_rate=0.3, loss=exponential, min_samples_split=4, n_estimators=150 \n",
      "[CV]  learning_rate=0.3, loss=exponential, min_samples_split=4, n_estimators=150, score=0.69607039405367, total=   2.9s\n"
     ]
    },
    {
     "name": "stderr",
     "output_type": "stream",
     "text": [
      "[Parallel(n_jobs=1)]: Done 108 out of 108 | elapsed:  4.6min finished\n"
     ]
    },
    {
     "data": {
      "text/plain": [
       "GridSearchCV(cv=None, error_score='raise',\n",
       "       estimator=GradientBoostingClassifier(criterion='friedman_mse', init=None,\n",
       "              learning_rate=0.1, loss='deviance', max_depth=3,\n",
       "              max_features=None, max_leaf_nodes=None,\n",
       "              min_impurity_decrease=0.0, min_impurity_split=None,\n",
       "              min_samples_leaf=1, min_samples_split=2,\n",
       "              min_weight_fraction_leaf=0.0, n_estimators=100,\n",
       "              presort='auto', random_state=None, subsample=1.0, verbose=0,\n",
       "              warm_start=False),\n",
       "       fit_params=None, iid=True, n_jobs=1,\n",
       "       param_grid={'loss': ['deviance', 'exponential'], 'learning_rate': [0.1, 0.2, 0.3], 'n_estimators': [100, 150], 'min_samples_split': [2, 3, 4]},\n",
       "       pre_dispatch='2*n_jobs', refit=True, return_train_score=True,\n",
       "       scoring=None, verbose=3)"
      ]
     },
     "execution_count": 81,
     "metadata": {},
     "output_type": "execute_result"
    }
   ],
   "source": [
    "cv.fit(X_train, y_train)"
   ]
  },
  {
   "cell_type": "markdown",
   "metadata": {},
   "source": [
    "### applying the changes"
   ]
  },
  {
   "cell_type": "code",
   "execution_count": 83,
   "metadata": {},
   "outputs": [
    {
     "name": "stdout",
     "output_type": "stream",
     "text": [
      "             precision    recall  f1-score   support\n",
      "\n",
      "          0       0.63      0.54      0.58     10682\n",
      "          2       0.73      0.79      0.76     16355\n",
      "\n",
      "avg / total       0.69      0.69      0.69     27037\n",
      "\n",
      "[[ 5817  4865]\n",
      " [ 3442 12913]]\n"
     ]
    }
   ],
   "source": [
    "gradient = GradientBoostingClassifier(min_samples_split=4, learning_rate=.3, loss = 'exponential', n_estimators=100)\n",
    "\n",
    "model_testing(gradient)"
   ]
  },
  {
   "cell_type": "markdown",
   "metadata": {},
   "source": [
    "# Conclusion\n",
    "\n",
    "Overall, our GradientBoostingClassifier model had the best performance. And that it could perform even better if we messed with its hyperparameters.<br>\n",
    "But all models performed in very similar ways, so I imagine that all of them, with the necessary changes, can perform even better!\n",
    "\n",
    "The age percentile that most consumed starbucks products is between 40 and 60 years old.\n",
    "\n",
    "With the grouping that was carried out in the income part, the groups that most participated were groups 1 and 2.\n",
    "\n",
    "we could also verify that most of the engagement in the events was based on email, followed by mobile.\n",
    "And most of the events completed were by email basis.\n",
    "\n",
    "With the removal of the age of 118, we were able to get very close to a normal curvature to apply to our model, so I imagine this was a good move, given that even with this change, there was no impact on those who reported income (with the removal from age 118, we also remove all nulls that did not report income)."
   ]
  },
  {
   "cell_type": "code",
   "execution_count": null,
   "metadata": {},
   "outputs": [],
   "source": []
  }
 ],
 "metadata": {
  "kernelspec": {
   "display_name": "Python 3",
   "language": "python",
   "name": "python3"
  },
  "language_info": {
   "codemirror_mode": {
    "name": "ipython",
    "version": 3
   },
   "file_extension": ".py",
   "mimetype": "text/x-python",
   "name": "python",
   "nbconvert_exporter": "python",
   "pygments_lexer": "ipython3",
   "version": "3.6.3"
  }
 },
 "nbformat": 4,
 "nbformat_minor": 2
}
